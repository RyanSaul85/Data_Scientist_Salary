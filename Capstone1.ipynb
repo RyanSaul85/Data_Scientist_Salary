{
  "nbformat": 4,
  "nbformat_minor": 0,
  "metadata": {
    "colab": {
      "name": "Capstone1.ipynb",
      "provenance": [],
      "authorship_tag": "ABX9TyMEsdJZNPhEFh97e6G08kEC",
      "include_colab_link": true
    },
    "kernelspec": {
      "name": "python3",
      "display_name": "Python 3"
    },
    "language_info": {
      "name": "python"
    }
  },
  "cells": [
    {
      "cell_type": "markdown",
      "metadata": {
        "id": "view-in-github",
        "colab_type": "text"
      },
      "source": [
        "<a href=\"https://colab.research.google.com/github/RyanSaul85/Data_Scientist_Salary/blob/main/Capstone1.ipynb\" target=\"_parent\"><img src=\"https://colab.research.google.com/assets/colab-badge.svg\" alt=\"Open In Colab\"/></a>"
      ]
    },
    {
      "cell_type": "markdown",
      "source": [
        "# **Data Scientist Salaries Depending On Company Variables**\n"
      ],
      "metadata": {
        "id": "bhPTF0N-BKuo"
      }
    },
    {
      "cell_type": "markdown",
      "source": [
        "# **Importing and cleaning the data.**\n",
        "# I am going to sort some columns, remove invalid data or null values, create some columns, get rid of some symbols, get some averages, find some mins and maxs.\n"
      ],
      "metadata": {
        "id": "66icJGU8C-Na"
      }
    },
    {
      "cell_type": "code",
      "execution_count": null,
      "metadata": {
        "id": "a1XFEPZoUGzY",
        "colab": {
          "base_uri": "https://localhost:8080/"
        },
        "outputId": "91543efd-590a-4a32-a540-a4a44f756164"
      },
      "outputs": [
        {
          "output_type": "stream",
          "name": "stderr",
          "text": [
            "/usr/local/lib/python3.7/dist-packages/statsmodels/tools/_testing.py:19: FutureWarning: pandas.util.testing is deprecated. Use the functions in the public API at pandas.testing instead.\n",
            "  import pandas.util.testing as tm\n"
          ]
        }
      ],
      "source": [
        "# Importing everything at the beginning for organization\n",
        "\n",
        "%matplotlib inline\n",
        "import pandas as pd\n",
        "import numpy as np\n",
        "import matplotlib.pyplot as plt\n",
        "import scipy.stats as stats\n",
        "import seaborn as sns\n",
        "from statsmodels.stats.multicomp import pairwise_tukeyhsd\n",
        "import math"
      ]
    },
    {
      "cell_type": "code",
      "source": [
        "# Getting the data\n",
        "\n",
        "url = 'https://raw.githubusercontent.com/RyanSaul85/master/master/data_cleaned_2021%20-%20data_cleaned_2021.csv'\n",
        "\n",
        "data = pd.read_csv(url)"
      ],
      "metadata": {
        "id": "Byz7FRXUYrny"
      },
      "execution_count": null,
      "outputs": []
    },
    {
      "cell_type": "code",
      "source": [
        "# Showing the first 5 rows of the dataset to get an understanding of columns, format, etc\n",
        "\n",
        "data.head()"
      ],
      "metadata": {
        "colab": {
          "base_uri": "https://localhost:8080/",
          "height": 508
        },
        "id": "FGcwU1ZCZCCZ",
        "outputId": "62d12490-6d18-4c00-a36d-e62586b6ee5f"
      },
      "execution_count": null,
      "outputs": [
        {
          "output_type": "execute_result",
          "data": {
            "text/plain": [
              "   index                  Job Title              Salary Estimate  Rating  \\\n",
              "0      0             Data Scientist   $53K-$91K (Glassdoor est.)     3.8   \n",
              "1      1  Healthcare Data Scientist  $63K-$112K (Glassdoor est.)     3.4   \n",
              "2      2             Data Scientist   $80K-$90K (Glassdoor est.)     4.8   \n",
              "3      3             Data Scientist   $56K-$97K (Glassdoor est.)     3.8   \n",
              "4      4             Data Scientist  $86K-$143K (Glassdoor est.)     2.9   \n",
              "\n",
              "                                 Company Name         Location  \\\n",
              "0                      Tecolote Research\\n3.8  Albuquerque, NM   \n",
              "1  University of Maryland Medical System\\n3.4    Linthicum, MD   \n",
              "2                                KnowBe4\\n4.8   Clearwater, FL   \n",
              "3                                   PNNL\\n3.8     Richland, WA   \n",
              "4                     Affinity Solutions\\n2.9     New York, NY   \n",
              "\n",
              "     Headquarters         Size  Founded   Type of ownership  ... tensor  \\\n",
              "0      Goleta, CA   501 - 1000     1973   Company - Private  ...      0   \n",
              "1   Baltimore, MD       10000+     1984  Other Organization  ...      0   \n",
              "2  Clearwater, FL   501 - 1000     2010   Company - Private  ...      0   \n",
              "3    Richland, WA  1001 - 5000     1965          Government  ...      0   \n",
              "4    New York, NY     51 - 200     1998   Company - Private  ...      0   \n",
              "\n",
              "  hadoop tableau bi  flink  mongo  google_an   job_title_sim  \\\n",
              "0      0       1  1      0      0          0  data scientist   \n",
              "1      0       0  0      0      0          0  data scientist   \n",
              "2      0       0  0      0      0          0  data scientist   \n",
              "3      0       0  0      0      0          0  data scientist   \n",
              "4      0       0  0      0      0          0  data scientist   \n",
              "\n",
              "   seniority_by_title Degree  \n",
              "0                  na      M  \n",
              "1                  na      M  \n",
              "2                  na      M  \n",
              "3                  na     na  \n",
              "4                  na     na  \n",
              "\n",
              "[5 rows x 41 columns]"
            ],
            "text/html": [
              "\n",
              "  <div id=\"df-6a1a5816-157d-4d90-be63-159396c11e0b\">\n",
              "    <div class=\"colab-df-container\">\n",
              "      <div>\n",
              "<style scoped>\n",
              "    .dataframe tbody tr th:only-of-type {\n",
              "        vertical-align: middle;\n",
              "    }\n",
              "\n",
              "    .dataframe tbody tr th {\n",
              "        vertical-align: top;\n",
              "    }\n",
              "\n",
              "    .dataframe thead th {\n",
              "        text-align: right;\n",
              "    }\n",
              "</style>\n",
              "<table border=\"1\" class=\"dataframe\">\n",
              "  <thead>\n",
              "    <tr style=\"text-align: right;\">\n",
              "      <th></th>\n",
              "      <th>index</th>\n",
              "      <th>Job Title</th>\n",
              "      <th>Salary Estimate</th>\n",
              "      <th>Rating</th>\n",
              "      <th>Company Name</th>\n",
              "      <th>Location</th>\n",
              "      <th>Headquarters</th>\n",
              "      <th>Size</th>\n",
              "      <th>Founded</th>\n",
              "      <th>Type of ownership</th>\n",
              "      <th>...</th>\n",
              "      <th>tensor</th>\n",
              "      <th>hadoop</th>\n",
              "      <th>tableau</th>\n",
              "      <th>bi</th>\n",
              "      <th>flink</th>\n",
              "      <th>mongo</th>\n",
              "      <th>google_an</th>\n",
              "      <th>job_title_sim</th>\n",
              "      <th>seniority_by_title</th>\n",
              "      <th>Degree</th>\n",
              "    </tr>\n",
              "  </thead>\n",
              "  <tbody>\n",
              "    <tr>\n",
              "      <th>0</th>\n",
              "      <td>0</td>\n",
              "      <td>Data Scientist</td>\n",
              "      <td>$53K-$91K (Glassdoor est.)</td>\n",
              "      <td>3.8</td>\n",
              "      <td>Tecolote Research\\n3.8</td>\n",
              "      <td>Albuquerque, NM</td>\n",
              "      <td>Goleta, CA</td>\n",
              "      <td>501 - 1000</td>\n",
              "      <td>1973</td>\n",
              "      <td>Company - Private</td>\n",
              "      <td>...</td>\n",
              "      <td>0</td>\n",
              "      <td>0</td>\n",
              "      <td>1</td>\n",
              "      <td>1</td>\n",
              "      <td>0</td>\n",
              "      <td>0</td>\n",
              "      <td>0</td>\n",
              "      <td>data scientist</td>\n",
              "      <td>na</td>\n",
              "      <td>M</td>\n",
              "    </tr>\n",
              "    <tr>\n",
              "      <th>1</th>\n",
              "      <td>1</td>\n",
              "      <td>Healthcare Data Scientist</td>\n",
              "      <td>$63K-$112K (Glassdoor est.)</td>\n",
              "      <td>3.4</td>\n",
              "      <td>University of Maryland Medical System\\n3.4</td>\n",
              "      <td>Linthicum, MD</td>\n",
              "      <td>Baltimore, MD</td>\n",
              "      <td>10000+</td>\n",
              "      <td>1984</td>\n",
              "      <td>Other Organization</td>\n",
              "      <td>...</td>\n",
              "      <td>0</td>\n",
              "      <td>0</td>\n",
              "      <td>0</td>\n",
              "      <td>0</td>\n",
              "      <td>0</td>\n",
              "      <td>0</td>\n",
              "      <td>0</td>\n",
              "      <td>data scientist</td>\n",
              "      <td>na</td>\n",
              "      <td>M</td>\n",
              "    </tr>\n",
              "    <tr>\n",
              "      <th>2</th>\n",
              "      <td>2</td>\n",
              "      <td>Data Scientist</td>\n",
              "      <td>$80K-$90K (Glassdoor est.)</td>\n",
              "      <td>4.8</td>\n",
              "      <td>KnowBe4\\n4.8</td>\n",
              "      <td>Clearwater, FL</td>\n",
              "      <td>Clearwater, FL</td>\n",
              "      <td>501 - 1000</td>\n",
              "      <td>2010</td>\n",
              "      <td>Company - Private</td>\n",
              "      <td>...</td>\n",
              "      <td>0</td>\n",
              "      <td>0</td>\n",
              "      <td>0</td>\n",
              "      <td>0</td>\n",
              "      <td>0</td>\n",
              "      <td>0</td>\n",
              "      <td>0</td>\n",
              "      <td>data scientist</td>\n",
              "      <td>na</td>\n",
              "      <td>M</td>\n",
              "    </tr>\n",
              "    <tr>\n",
              "      <th>3</th>\n",
              "      <td>3</td>\n",
              "      <td>Data Scientist</td>\n",
              "      <td>$56K-$97K (Glassdoor est.)</td>\n",
              "      <td>3.8</td>\n",
              "      <td>PNNL\\n3.8</td>\n",
              "      <td>Richland, WA</td>\n",
              "      <td>Richland, WA</td>\n",
              "      <td>1001 - 5000</td>\n",
              "      <td>1965</td>\n",
              "      <td>Government</td>\n",
              "      <td>...</td>\n",
              "      <td>0</td>\n",
              "      <td>0</td>\n",
              "      <td>0</td>\n",
              "      <td>0</td>\n",
              "      <td>0</td>\n",
              "      <td>0</td>\n",
              "      <td>0</td>\n",
              "      <td>data scientist</td>\n",
              "      <td>na</td>\n",
              "      <td>na</td>\n",
              "    </tr>\n",
              "    <tr>\n",
              "      <th>4</th>\n",
              "      <td>4</td>\n",
              "      <td>Data Scientist</td>\n",
              "      <td>$86K-$143K (Glassdoor est.)</td>\n",
              "      <td>2.9</td>\n",
              "      <td>Affinity Solutions\\n2.9</td>\n",
              "      <td>New York, NY</td>\n",
              "      <td>New York, NY</td>\n",
              "      <td>51 - 200</td>\n",
              "      <td>1998</td>\n",
              "      <td>Company - Private</td>\n",
              "      <td>...</td>\n",
              "      <td>0</td>\n",
              "      <td>0</td>\n",
              "      <td>0</td>\n",
              "      <td>0</td>\n",
              "      <td>0</td>\n",
              "      <td>0</td>\n",
              "      <td>0</td>\n",
              "      <td>data scientist</td>\n",
              "      <td>na</td>\n",
              "      <td>na</td>\n",
              "    </tr>\n",
              "  </tbody>\n",
              "</table>\n",
              "<p>5 rows × 41 columns</p>\n",
              "</div>\n",
              "      <button class=\"colab-df-convert\" onclick=\"convertToInteractive('df-6a1a5816-157d-4d90-be63-159396c11e0b')\"\n",
              "              title=\"Convert this dataframe to an interactive table.\"\n",
              "              style=\"display:none;\">\n",
              "        \n",
              "  <svg xmlns=\"http://www.w3.org/2000/svg\" height=\"24px\"viewBox=\"0 0 24 24\"\n",
              "       width=\"24px\">\n",
              "    <path d=\"M0 0h24v24H0V0z\" fill=\"none\"/>\n",
              "    <path d=\"M18.56 5.44l.94 2.06.94-2.06 2.06-.94-2.06-.94-.94-2.06-.94 2.06-2.06.94zm-11 1L8.5 8.5l.94-2.06 2.06-.94-2.06-.94L8.5 2.5l-.94 2.06-2.06.94zm10 10l.94 2.06.94-2.06 2.06-.94-2.06-.94-.94-2.06-.94 2.06-2.06.94z\"/><path d=\"M17.41 7.96l-1.37-1.37c-.4-.4-.92-.59-1.43-.59-.52 0-1.04.2-1.43.59L10.3 9.45l-7.72 7.72c-.78.78-.78 2.05 0 2.83L4 21.41c.39.39.9.59 1.41.59.51 0 1.02-.2 1.41-.59l7.78-7.78 2.81-2.81c.8-.78.8-2.07 0-2.86zM5.41 20L4 18.59l7.72-7.72 1.47 1.35L5.41 20z\"/>\n",
              "  </svg>\n",
              "      </button>\n",
              "      \n",
              "  <style>\n",
              "    .colab-df-container {\n",
              "      display:flex;\n",
              "      flex-wrap:wrap;\n",
              "      gap: 12px;\n",
              "    }\n",
              "\n",
              "    .colab-df-convert {\n",
              "      background-color: #E8F0FE;\n",
              "      border: none;\n",
              "      border-radius: 50%;\n",
              "      cursor: pointer;\n",
              "      display: none;\n",
              "      fill: #1967D2;\n",
              "      height: 32px;\n",
              "      padding: 0 0 0 0;\n",
              "      width: 32px;\n",
              "    }\n",
              "\n",
              "    .colab-df-convert:hover {\n",
              "      background-color: #E2EBFA;\n",
              "      box-shadow: 0px 1px 2px rgba(60, 64, 67, 0.3), 0px 1px 3px 1px rgba(60, 64, 67, 0.15);\n",
              "      fill: #174EA6;\n",
              "    }\n",
              "\n",
              "    [theme=dark] .colab-df-convert {\n",
              "      background-color: #3B4455;\n",
              "      fill: #D2E3FC;\n",
              "    }\n",
              "\n",
              "    [theme=dark] .colab-df-convert:hover {\n",
              "      background-color: #434B5C;\n",
              "      box-shadow: 0px 1px 3px 1px rgba(0, 0, 0, 0.15);\n",
              "      filter: drop-shadow(0px 1px 2px rgba(0, 0, 0, 0.3));\n",
              "      fill: #FFFFFF;\n",
              "    }\n",
              "  </style>\n",
              "\n",
              "      <script>\n",
              "        const buttonEl =\n",
              "          document.querySelector('#df-6a1a5816-157d-4d90-be63-159396c11e0b button.colab-df-convert');\n",
              "        buttonEl.style.display =\n",
              "          google.colab.kernel.accessAllowed ? 'block' : 'none';\n",
              "\n",
              "        async function convertToInteractive(key) {\n",
              "          const element = document.querySelector('#df-6a1a5816-157d-4d90-be63-159396c11e0b');\n",
              "          const dataTable =\n",
              "            await google.colab.kernel.invokeFunction('convertToInteractive',\n",
              "                                                     [key], {});\n",
              "          if (!dataTable) return;\n",
              "\n",
              "          const docLinkHtml = 'Like what you see? Visit the ' +\n",
              "            '<a target=\"_blank\" href=https://colab.research.google.com/notebooks/data_table.ipynb>data table notebook</a>'\n",
              "            + ' to learn more about interactive tables.';\n",
              "          element.innerHTML = '';\n",
              "          dataTable['output_type'] = 'display_data';\n",
              "          await google.colab.output.renderOutput(dataTable, element);\n",
              "          const docLink = document.createElement('div');\n",
              "          docLink.innerHTML = docLinkHtml;\n",
              "          element.appendChild(docLink);\n",
              "        }\n",
              "      </script>\n",
              "    </div>\n",
              "  </div>\n",
              "  "
            ]
          },
          "metadata": {},
          "execution_count": 3
        }
      ]
    },
    {
      "cell_type": "code",
      "source": [
        "print(data.info())"
      ],
      "metadata": {
        "colab": {
          "base_uri": "https://localhost:8080/"
        },
        "id": "gbXg1_iNVrni",
        "outputId": "d6cb1a65-415d-4835-898f-1e95f2b17861"
      },
      "execution_count": null,
      "outputs": [
        {
          "output_type": "stream",
          "name": "stdout",
          "text": [
            "<class 'pandas.core.frame.DataFrame'>\n",
            "RangeIndex: 742 entries, 0 to 741\n",
            "Data columns (total 41 columns):\n",
            " #   Column              Non-Null Count  Dtype  \n",
            "---  ------              --------------  -----  \n",
            " 0   index               742 non-null    int64  \n",
            " 1   Job Title           742 non-null    object \n",
            " 2   Salary Estimate     742 non-null    object \n",
            " 3   Rating              742 non-null    float64\n",
            " 4   Company Name        742 non-null    object \n",
            " 5   Location            742 non-null    object \n",
            " 6   Headquarters        742 non-null    object \n",
            " 7   Size                742 non-null    object \n",
            " 8   Founded             742 non-null    int64  \n",
            " 9   Type of ownership   742 non-null    object \n",
            " 10  Industry            742 non-null    object \n",
            " 11  Sector              742 non-null    object \n",
            " 12  Revenue             742 non-null    object \n",
            " 13  Competitors         742 non-null    object \n",
            " 14  Hourly              742 non-null    int64  \n",
            " 15  Employer provided   742 non-null    int64  \n",
            " 16  Lower Salary        742 non-null    int64  \n",
            " 17  Upper Salary        742 non-null    int64  \n",
            " 18  Avg Salary(K)       742 non-null    float64\n",
            " 19  company_txt         742 non-null    object \n",
            " 20  Job Location        742 non-null    object \n",
            " 21  Age                 742 non-null    int64  \n",
            " 22  Python              742 non-null    int64  \n",
            " 23  spark               742 non-null    int64  \n",
            " 24  aws                 742 non-null    int64  \n",
            " 25  excel               742 non-null    int64  \n",
            " 26  sql                 742 non-null    int64  \n",
            " 27  sas                 742 non-null    int64  \n",
            " 28  keras               742 non-null    int64  \n",
            " 29  pytorch             742 non-null    int64  \n",
            " 30  scikit              742 non-null    int64  \n",
            " 31  tensor              742 non-null    int64  \n",
            " 32  hadoop              742 non-null    int64  \n",
            " 33  tableau             742 non-null    int64  \n",
            " 34  bi                  742 non-null    int64  \n",
            " 35  flink               742 non-null    int64  \n",
            " 36  mongo               742 non-null    int64  \n",
            " 37  google_an           742 non-null    int64  \n",
            " 38  job_title_sim       742 non-null    object \n",
            " 39  seniority_by_title  742 non-null    object \n",
            " 40  Degree              742 non-null    object \n",
            "dtypes: float64(2), int64(23), object(16)\n",
            "memory usage: 237.8+ KB\n",
            "None\n"
          ]
        }
      ]
    },
    {
      "cell_type": "code",
      "source": [
        "# Getting a list of the different job titles in the 'job_title_sim' column\n",
        "\n",
        "data.job_title_sim.value_counts().index.tolist()"
      ],
      "metadata": {
        "colab": {
          "base_uri": "https://localhost:8080/"
        },
        "id": "KM6_l2UY0tOq",
        "outputId": "ed2b12b5-7756-489d-b9fd-5a361ad589b1"
      },
      "execution_count": null,
      "outputs": [
        {
          "output_type": "execute_result",
          "data": {
            "text/plain": [
              "['data scientist',\n",
              " 'other scientist',\n",
              " 'data engineer',\n",
              " 'analyst',\n",
              " 'machine learning engineer',\n",
              " 'Data scientist project manager',\n",
              " 'na',\n",
              " 'data analitics',\n",
              " 'data modeler',\n",
              " 'director']"
            ]
          },
          "metadata": {},
          "execution_count": 5
        }
      ]
    },
    {
      "cell_type": "code",
      "source": [
        "# Checking the difference in 'Job Title' and 'job_title_sim\n",
        "\n",
        "data[['Job Title' , 'job_title_sim']]"
      ],
      "metadata": {
        "colab": {
          "base_uri": "https://localhost:8080/",
          "height": 423
        },
        "id": "5--_ew5Y0xIs",
        "outputId": "2c893520-6832-4dcb-aca8-0d84415494e6"
      },
      "execution_count": null,
      "outputs": [
        {
          "output_type": "execute_result",
          "data": {
            "text/plain": [
              "                                             Job Title    job_title_sim\n",
              "0                                       Data Scientist   data scientist\n",
              "1                            Healthcare Data Scientist   data scientist\n",
              "2                                       Data Scientist   data scientist\n",
              "3                                       Data Scientist   data scientist\n",
              "4                                       Data Scientist   data scientist\n",
              "..                                                 ...              ...\n",
              "737           Sr Scientist, Immuno-Oncology - Oncology  other scientist\n",
              "738                               Senior Data Engineer    data engineer\n",
              "739  Project Scientist - Auton Lab, Robotics Institute  other scientist\n",
              "740                               Data Science Manager   data scientist\n",
              "741          Research Scientist – Security and Privacy  other scientist\n",
              "\n",
              "[742 rows x 2 columns]"
            ],
            "text/html": [
              "\n",
              "  <div id=\"df-b12e3242-0b34-4268-9659-7a788dd79c93\">\n",
              "    <div class=\"colab-df-container\">\n",
              "      <div>\n",
              "<style scoped>\n",
              "    .dataframe tbody tr th:only-of-type {\n",
              "        vertical-align: middle;\n",
              "    }\n",
              "\n",
              "    .dataframe tbody tr th {\n",
              "        vertical-align: top;\n",
              "    }\n",
              "\n",
              "    .dataframe thead th {\n",
              "        text-align: right;\n",
              "    }\n",
              "</style>\n",
              "<table border=\"1\" class=\"dataframe\">\n",
              "  <thead>\n",
              "    <tr style=\"text-align: right;\">\n",
              "      <th></th>\n",
              "      <th>Job Title</th>\n",
              "      <th>job_title_sim</th>\n",
              "    </tr>\n",
              "  </thead>\n",
              "  <tbody>\n",
              "    <tr>\n",
              "      <th>0</th>\n",
              "      <td>Data Scientist</td>\n",
              "      <td>data scientist</td>\n",
              "    </tr>\n",
              "    <tr>\n",
              "      <th>1</th>\n",
              "      <td>Healthcare Data Scientist</td>\n",
              "      <td>data scientist</td>\n",
              "    </tr>\n",
              "    <tr>\n",
              "      <th>2</th>\n",
              "      <td>Data Scientist</td>\n",
              "      <td>data scientist</td>\n",
              "    </tr>\n",
              "    <tr>\n",
              "      <th>3</th>\n",
              "      <td>Data Scientist</td>\n",
              "      <td>data scientist</td>\n",
              "    </tr>\n",
              "    <tr>\n",
              "      <th>4</th>\n",
              "      <td>Data Scientist</td>\n",
              "      <td>data scientist</td>\n",
              "    </tr>\n",
              "    <tr>\n",
              "      <th>...</th>\n",
              "      <td>...</td>\n",
              "      <td>...</td>\n",
              "    </tr>\n",
              "    <tr>\n",
              "      <th>737</th>\n",
              "      <td>Sr Scientist, Immuno-Oncology - Oncology</td>\n",
              "      <td>other scientist</td>\n",
              "    </tr>\n",
              "    <tr>\n",
              "      <th>738</th>\n",
              "      <td>Senior Data Engineer</td>\n",
              "      <td>data engineer</td>\n",
              "    </tr>\n",
              "    <tr>\n",
              "      <th>739</th>\n",
              "      <td>Project Scientist - Auton Lab, Robotics Institute</td>\n",
              "      <td>other scientist</td>\n",
              "    </tr>\n",
              "    <tr>\n",
              "      <th>740</th>\n",
              "      <td>Data Science Manager</td>\n",
              "      <td>data scientist</td>\n",
              "    </tr>\n",
              "    <tr>\n",
              "      <th>741</th>\n",
              "      <td>Research Scientist – Security and Privacy</td>\n",
              "      <td>other scientist</td>\n",
              "    </tr>\n",
              "  </tbody>\n",
              "</table>\n",
              "<p>742 rows × 2 columns</p>\n",
              "</div>\n",
              "      <button class=\"colab-df-convert\" onclick=\"convertToInteractive('df-b12e3242-0b34-4268-9659-7a788dd79c93')\"\n",
              "              title=\"Convert this dataframe to an interactive table.\"\n",
              "              style=\"display:none;\">\n",
              "        \n",
              "  <svg xmlns=\"http://www.w3.org/2000/svg\" height=\"24px\"viewBox=\"0 0 24 24\"\n",
              "       width=\"24px\">\n",
              "    <path d=\"M0 0h24v24H0V0z\" fill=\"none\"/>\n",
              "    <path d=\"M18.56 5.44l.94 2.06.94-2.06 2.06-.94-2.06-.94-.94-2.06-.94 2.06-2.06.94zm-11 1L8.5 8.5l.94-2.06 2.06-.94-2.06-.94L8.5 2.5l-.94 2.06-2.06.94zm10 10l.94 2.06.94-2.06 2.06-.94-2.06-.94-.94-2.06-.94 2.06-2.06.94z\"/><path d=\"M17.41 7.96l-1.37-1.37c-.4-.4-.92-.59-1.43-.59-.52 0-1.04.2-1.43.59L10.3 9.45l-7.72 7.72c-.78.78-.78 2.05 0 2.83L4 21.41c.39.39.9.59 1.41.59.51 0 1.02-.2 1.41-.59l7.78-7.78 2.81-2.81c.8-.78.8-2.07 0-2.86zM5.41 20L4 18.59l7.72-7.72 1.47 1.35L5.41 20z\"/>\n",
              "  </svg>\n",
              "      </button>\n",
              "      \n",
              "  <style>\n",
              "    .colab-df-container {\n",
              "      display:flex;\n",
              "      flex-wrap:wrap;\n",
              "      gap: 12px;\n",
              "    }\n",
              "\n",
              "    .colab-df-convert {\n",
              "      background-color: #E8F0FE;\n",
              "      border: none;\n",
              "      border-radius: 50%;\n",
              "      cursor: pointer;\n",
              "      display: none;\n",
              "      fill: #1967D2;\n",
              "      height: 32px;\n",
              "      padding: 0 0 0 0;\n",
              "      width: 32px;\n",
              "    }\n",
              "\n",
              "    .colab-df-convert:hover {\n",
              "      background-color: #E2EBFA;\n",
              "      box-shadow: 0px 1px 2px rgba(60, 64, 67, 0.3), 0px 1px 3px 1px rgba(60, 64, 67, 0.15);\n",
              "      fill: #174EA6;\n",
              "    }\n",
              "\n",
              "    [theme=dark] .colab-df-convert {\n",
              "      background-color: #3B4455;\n",
              "      fill: #D2E3FC;\n",
              "    }\n",
              "\n",
              "    [theme=dark] .colab-df-convert:hover {\n",
              "      background-color: #434B5C;\n",
              "      box-shadow: 0px 1px 3px 1px rgba(0, 0, 0, 0.15);\n",
              "      filter: drop-shadow(0px 1px 2px rgba(0, 0, 0, 0.3));\n",
              "      fill: #FFFFFF;\n",
              "    }\n",
              "  </style>\n",
              "\n",
              "      <script>\n",
              "        const buttonEl =\n",
              "          document.querySelector('#df-b12e3242-0b34-4268-9659-7a788dd79c93 button.colab-df-convert');\n",
              "        buttonEl.style.display =\n",
              "          google.colab.kernel.accessAllowed ? 'block' : 'none';\n",
              "\n",
              "        async function convertToInteractive(key) {\n",
              "          const element = document.querySelector('#df-b12e3242-0b34-4268-9659-7a788dd79c93');\n",
              "          const dataTable =\n",
              "            await google.colab.kernel.invokeFunction('convertToInteractive',\n",
              "                                                     [key], {});\n",
              "          if (!dataTable) return;\n",
              "\n",
              "          const docLinkHtml = 'Like what you see? Visit the ' +\n",
              "            '<a target=\"_blank\" href=https://colab.research.google.com/notebooks/data_table.ipynb>data table notebook</a>'\n",
              "            + ' to learn more about interactive tables.';\n",
              "          element.innerHTML = '';\n",
              "          dataTable['output_type'] = 'display_data';\n",
              "          await google.colab.output.renderOutput(dataTable, element);\n",
              "          const docLink = document.createElement('div');\n",
              "          docLink.innerHTML = docLinkHtml;\n",
              "          element.appendChild(docLink);\n",
              "        }\n",
              "      </script>\n",
              "    </div>\n",
              "  </div>\n",
              "  "
            ]
          },
          "metadata": {},
          "execution_count": 6
        }
      ]
    },
    {
      "cell_type": "code",
      "source": [
        "# Looking at the totals of different job titles\n",
        "\n",
        "plt.barh(data.job_title_sim.value_counts().index, data.job_title_sim.value_counts().values, color=('r', 'b', 'b', 'b', 'b', 'b', 'b', 'b', 'b'), edgecolor='black')\n",
        "plt.title('Count of Different Job Titles')\n",
        "plt.xlabel('Number of Jobs');"
      ],
      "metadata": {
        "colab": {
          "base_uri": "https://localhost:8080/",
          "height": 295
        },
        "id": "tlwLew8w1lGC",
        "outputId": "100dd066-7d9b-49af-aeb1-f791142c5537"
      },
      "execution_count": null,
      "outputs": [
        {
          "output_type": "display_data",
          "data": {
            "text/plain": [
              "<Figure size 432x288 with 1 Axes>"
            ],
            "image/png": "[encoded data removed]"
          },
          "metadata": {
            "needs_background": "light"
          }
        }
      ]
    },
    {
      "cell_type": "code",
      "source": [
        "# Checking the 'na' in the 'job_title_sim' column\n",
        "\n",
        "data[['Job Title' , 'job_title_sim']][data.job_title_sim == 'na']"
      ],
      "metadata": {
        "colab": {
          "base_uri": "https://localhost:8080/",
          "height": 363
        },
        "id": "5yYJx2c_jdSu",
        "outputId": "8bb973e5-b8e7-47c3-d34d-f9590c53db4d"
      },
      "execution_count": null,
      "outputs": [
        {
          "output_type": "execute_result",
          "data": {
            "text/plain": [
              "                                             Job Title job_title_sim\n",
              "89                          Data Management Specialist            na\n",
              "191             Software Engineer - Data Visualization            na\n",
              "300                               Data Operations Lead            na\n",
              "316             Software Engineer - Data Visualization            na\n",
              "374                         Enterprise Architect, Data            na\n",
              "388  Technology-Minded, Data Professional Opportuni...            na\n",
              "441             Software Engineer - Data Visualization            na\n",
              "561                         Enterprise Architect, Data            na\n",
              "586  Technology-Minded, Data Professional Opportuni...            na\n",
              "643       Senior Engineer, Data Management Engineering            na"
            ],
            "text/html": [
              "\n",
              "  <div id=\"df-375835a1-f813-445e-a8a8-b69160ec0532\">\n",
              "    <div class=\"colab-df-container\">\n",
              "      <div>\n",
              "<style scoped>\n",
              "    .dataframe tbody tr th:only-of-type {\n",
              "        vertical-align: middle;\n",
              "    }\n",
              "\n",
              "    .dataframe tbody tr th {\n",
              "        vertical-align: top;\n",
              "    }\n",
              "\n",
              "    .dataframe thead th {\n",
              "        text-align: right;\n",
              "    }\n",
              "</style>\n",
              "<table border=\"1\" class=\"dataframe\">\n",
              "  <thead>\n",
              "    <tr style=\"text-align: right;\">\n",
              "      <th></th>\n",
              "      <th>Job Title</th>\n",
              "      <th>job_title_sim</th>\n",
              "    </tr>\n",
              "  </thead>\n",
              "  <tbody>\n",
              "    <tr>\n",
              "      <th>89</th>\n",
              "      <td>Data Management Specialist</td>\n",
              "      <td>na</td>\n",
              "    </tr>\n",
              "    <tr>\n",
              "      <th>191</th>\n",
              "      <td>Software Engineer - Data Visualization</td>\n",
              "      <td>na</td>\n",
              "    </tr>\n",
              "    <tr>\n",
              "      <th>300</th>\n",
              "      <td>Data Operations Lead</td>\n",
              "      <td>na</td>\n",
              "    </tr>\n",
              "    <tr>\n",
              "      <th>316</th>\n",
              "      <td>Software Engineer - Data Visualization</td>\n",
              "      <td>na</td>\n",
              "    </tr>\n",
              "    <tr>\n",
              "      <th>374</th>\n",
              "      <td>Enterprise Architect, Data</td>\n",
              "      <td>na</td>\n",
              "    </tr>\n",
              "    <tr>\n",
              "      <th>388</th>\n",
              "      <td>Technology-Minded, Data Professional Opportuni...</td>\n",
              "      <td>na</td>\n",
              "    </tr>\n",
              "    <tr>\n",
              "      <th>441</th>\n",
              "      <td>Software Engineer - Data Visualization</td>\n",
              "      <td>na</td>\n",
              "    </tr>\n",
              "    <tr>\n",
              "      <th>561</th>\n",
              "      <td>Enterprise Architect, Data</td>\n",
              "      <td>na</td>\n",
              "    </tr>\n",
              "    <tr>\n",
              "      <th>586</th>\n",
              "      <td>Technology-Minded, Data Professional Opportuni...</td>\n",
              "      <td>na</td>\n",
              "    </tr>\n",
              "    <tr>\n",
              "      <th>643</th>\n",
              "      <td>Senior Engineer, Data Management Engineering</td>\n",
              "      <td>na</td>\n",
              "    </tr>\n",
              "  </tbody>\n",
              "</table>\n",
              "</div>\n",
              "      <button class=\"colab-df-convert\" onclick=\"convertToInteractive('df-375835a1-f813-445e-a8a8-b69160ec0532')\"\n",
              "              title=\"Convert this dataframe to an interactive table.\"\n",
              "              style=\"display:none;\">\n",
              "        \n",
              "  <svg xmlns=\"http://www.w3.org/2000/svg\" height=\"24px\"viewBox=\"0 0 24 24\"\n",
              "       width=\"24px\">\n",
              "    <path d=\"M0 0h24v24H0V0z\" fill=\"none\"/>\n",
              "    <path d=\"M18.56 5.44l.94 2.06.94-2.06 2.06-.94-2.06-.94-.94-2.06-.94 2.06-2.06.94zm-11 1L8.5 8.5l.94-2.06 2.06-.94-2.06-.94L8.5 2.5l-.94 2.06-2.06.94zm10 10l.94 2.06.94-2.06 2.06-.94-2.06-.94-.94-2.06-.94 2.06-2.06.94z\"/><path d=\"M17.41 7.96l-1.37-1.37c-.4-.4-.92-.59-1.43-.59-.52 0-1.04.2-1.43.59L10.3 9.45l-7.72 7.72c-.78.78-.78 2.05 0 2.83L4 21.41c.39.39.9.59 1.41.59.51 0 1.02-.2 1.41-.59l7.78-7.78 2.81-2.81c.8-.78.8-2.07 0-2.86zM5.41 20L4 18.59l7.72-7.72 1.47 1.35L5.41 20z\"/>\n",
              "  </svg>\n",
              "      </button>\n",
              "      \n",
              "  <style>\n",
              "    .colab-df-container {\n",
              "      display:flex;\n",
              "      flex-wrap:wrap;\n",
              "      gap: 12px;\n",
              "    }\n",
              "\n",
              "    .colab-df-convert {\n",
              "      background-color: #E8F0FE;\n",
              "      border: none;\n",
              "      border-radius: 50%;\n",
              "      cursor: pointer;\n",
              "      display: none;\n",
              "      fill: #1967D2;\n",
              "      height: 32px;\n",
              "      padding: 0 0 0 0;\n",
              "      width: 32px;\n",
              "    }\n",
              "\n",
              "    .colab-df-convert:hover {\n",
              "      background-color: #E2EBFA;\n",
              "      box-shadow: 0px 1px 2px rgba(60, 64, 67, 0.3), 0px 1px 3px 1px rgba(60, 64, 67, 0.15);\n",
              "      fill: #174EA6;\n",
              "    }\n",
              "\n",
              "    [theme=dark] .colab-df-convert {\n",
              "      background-color: #3B4455;\n",
              "      fill: #D2E3FC;\n",
              "    }\n",
              "\n",
              "    [theme=dark] .colab-df-convert:hover {\n",
              "      background-color: #434B5C;\n",
              "      box-shadow: 0px 1px 3px 1px rgba(0, 0, 0, 0.15);\n",
              "      filter: drop-shadow(0px 1px 2px rgba(0, 0, 0, 0.3));\n",
              "      fill: #FFFFFF;\n",
              "    }\n",
              "  </style>\n",
              "\n",
              "      <script>\n",
              "        const buttonEl =\n",
              "          document.querySelector('#df-375835a1-f813-445e-a8a8-b69160ec0532 button.colab-df-convert');\n",
              "        buttonEl.style.display =\n",
              "          google.colab.kernel.accessAllowed ? 'block' : 'none';\n",
              "\n",
              "        async function convertToInteractive(key) {\n",
              "          const element = document.querySelector('#df-375835a1-f813-445e-a8a8-b69160ec0532');\n",
              "          const dataTable =\n",
              "            await google.colab.kernel.invokeFunction('convertToInteractive',\n",
              "                                                     [key], {});\n",
              "          if (!dataTable) return;\n",
              "\n",
              "          const docLinkHtml = 'Like what you see? Visit the ' +\n",
              "            '<a target=\"_blank\" href=https://colab.research.google.com/notebooks/data_table.ipynb>data table notebook</a>'\n",
              "            + ' to learn more about interactive tables.';\n",
              "          element.innerHTML = '';\n",
              "          dataTable['output_type'] = 'display_data';\n",
              "          await google.colab.output.renderOutput(dataTable, element);\n",
              "          const docLink = document.createElement('div');\n",
              "          docLink.innerHTML = docLinkHtml;\n",
              "          element.appendChild(docLink);\n",
              "        }\n",
              "      </script>\n",
              "    </div>\n",
              "  </div>\n",
              "  "
            ]
          },
          "metadata": {},
          "execution_count": 8
        }
      ]
    },
    {
      "cell_type": "code",
      "source": [
        "# Dropping the 'na' rows since none are titled data scientists\n",
        "\n",
        "data.drop(axis = 0 , index = data[data.job_title_sim == 'na'].index , inplace = True )"
      ],
      "metadata": {
        "id": "b7hz5N1OmCmX"
      },
      "execution_count": null,
      "outputs": []
    },
    {
      "cell_type": "code",
      "source": [
        "# Checking the 'other scientist' in the 'job_title_sim' column\n",
        "\n",
        "data[['Job Title' , 'job_title_sim']][data.job_title_sim.str.startswith('other')]"
      ],
      "metadata": {
        "colab": {
          "base_uri": "https://localhost:8080/",
          "height": 423
        },
        "id": "8LEvQfeHLhV_",
        "outputId": "009d6385-8aff-4fc4-ef1f-6bf32c7bbdc5"
      },
      "execution_count": null,
      "outputs": [
        {
          "output_type": "execute_result",
          "data": {
            "text/plain": [
              "                                             Job Title    job_title_sim\n",
              "8                                   Research Scientist  other scientist\n",
              "16                             Scientist I/II, Biology  other scientist\n",
              "43                                           Scientist  other scientist\n",
              "48                         Spectral Scientist/Engineer  other scientist\n",
              "69                         R&D Data Analysis Scientist  other scientist\n",
              "..                                                 ...              ...\n",
              "729               Associate Scientist, LC/MS Biologics  other scientist\n",
              "730    Research Scientist, Immunology - Cancer Biology  other scientist\n",
              "737           Sr Scientist, Immuno-Oncology - Oncology  other scientist\n",
              "739  Project Scientist - Auton Lab, Robotics Institute  other scientist\n",
              "741          Research Scientist – Security and Privacy  other scientist\n",
              "\n",
              "[143 rows x 2 columns]"
            ],
            "text/html": [
              "\n",
              "  <div id=\"df-8745e1b1-e774-40dd-95e1-8875cf03bd21\">\n",
              "    <div class=\"colab-df-container\">\n",
              "      <div>\n",
              "<style scoped>\n",
              "    .dataframe tbody tr th:only-of-type {\n",
              "        vertical-align: middle;\n",
              "    }\n",
              "\n",
              "    .dataframe tbody tr th {\n",
              "        vertical-align: top;\n",
              "    }\n",
              "\n",
              "    .dataframe thead th {\n",
              "        text-align: right;\n",
              "    }\n",
              "</style>\n",
              "<table border=\"1\" class=\"dataframe\">\n",
              "  <thead>\n",
              "    <tr style=\"text-align: right;\">\n",
              "      <th></th>\n",
              "      <th>Job Title</th>\n",
              "      <th>job_title_sim</th>\n",
              "    </tr>\n",
              "  </thead>\n",
              "  <tbody>\n",
              "    <tr>\n",
              "      <th>8</th>\n",
              "      <td>Research Scientist</td>\n",
              "      <td>other scientist</td>\n",
              "    </tr>\n",
              "    <tr>\n",
              "      <th>16</th>\n",
              "      <td>Scientist I/II, Biology</td>\n",
              "      <td>other scientist</td>\n",
              "    </tr>\n",
              "    <tr>\n",
              "      <th>43</th>\n",
              "      <td>Scientist</td>\n",
              "      <td>other scientist</td>\n",
              "    </tr>\n",
              "    <tr>\n",
              "      <th>48</th>\n",
              "      <td>Spectral Scientist/Engineer</td>\n",
              "      <td>other scientist</td>\n",
              "    </tr>\n",
              "    <tr>\n",
              "      <th>69</th>\n",
              "      <td>R&amp;D Data Analysis Scientist</td>\n",
              "      <td>other scientist</td>\n",
              "    </tr>\n",
              "    <tr>\n",
              "      <th>...</th>\n",
              "      <td>...</td>\n",
              "      <td>...</td>\n",
              "    </tr>\n",
              "    <tr>\n",
              "      <th>729</th>\n",
              "      <td>Associate Scientist, LC/MS Biologics</td>\n",
              "      <td>other scientist</td>\n",
              "    </tr>\n",
              "    <tr>\n",
              "      <th>730</th>\n",
              "      <td>Research Scientist, Immunology - Cancer Biology</td>\n",
              "      <td>other scientist</td>\n",
              "    </tr>\n",
              "    <tr>\n",
              "      <th>737</th>\n",
              "      <td>Sr Scientist, Immuno-Oncology - Oncology</td>\n",
              "      <td>other scientist</td>\n",
              "    </tr>\n",
              "    <tr>\n",
              "      <th>739</th>\n",
              "      <td>Project Scientist - Auton Lab, Robotics Institute</td>\n",
              "      <td>other scientist</td>\n",
              "    </tr>\n",
              "    <tr>\n",
              "      <th>741</th>\n",
              "      <td>Research Scientist – Security and Privacy</td>\n",
              "      <td>other scientist</td>\n",
              "    </tr>\n",
              "  </tbody>\n",
              "</table>\n",
              "<p>143 rows × 2 columns</p>\n",
              "</div>\n",
              "      <button class=\"colab-df-convert\" onclick=\"convertToInteractive('df-8745e1b1-e774-40dd-95e1-8875cf03bd21')\"\n",
              "              title=\"Convert this dataframe to an interactive table.\"\n",
              "              style=\"display:none;\">\n",
              "        \n",
              "  <svg xmlns=\"http://www.w3.org/2000/svg\" height=\"24px\"viewBox=\"0 0 24 24\"\n",
              "       width=\"24px\">\n",
              "    <path d=\"M0 0h24v24H0V0z\" fill=\"none\"/>\n",
              "    <path d=\"M18.56 5.44l.94 2.06.94-2.06 2.06-.94-2.06-.94-.94-2.06-.94 2.06-2.06.94zm-11 1L8.5 8.5l.94-2.06 2.06-.94-2.06-.94L8.5 2.5l-.94 2.06-2.06.94zm10 10l.94 2.06.94-2.06 2.06-.94-2.06-.94-.94-2.06-.94 2.06-2.06.94z\"/><path d=\"M17.41 7.96l-1.37-1.37c-.4-.4-.92-.59-1.43-.59-.52 0-1.04.2-1.43.59L10.3 9.45l-7.72 7.72c-.78.78-.78 2.05 0 2.83L4 21.41c.39.39.9.59 1.41.59.51 0 1.02-.2 1.41-.59l7.78-7.78 2.81-2.81c.8-.78.8-2.07 0-2.86zM5.41 20L4 18.59l7.72-7.72 1.47 1.35L5.41 20z\"/>\n",
              "  </svg>\n",
              "      </button>\n",
              "      \n",
              "  <style>\n",
              "    .colab-df-container {\n",
              "      display:flex;\n",
              "      flex-wrap:wrap;\n",
              "      gap: 12px;\n",
              "    }\n",
              "\n",
              "    .colab-df-convert {\n",
              "      background-color: #E8F0FE;\n",
              "      border: none;\n",
              "      border-radius: 50%;\n",
              "      cursor: pointer;\n",
              "      display: none;\n",
              "      fill: #1967D2;\n",
              "      height: 32px;\n",
              "      padding: 0 0 0 0;\n",
              "      width: 32px;\n",
              "    }\n",
              "\n",
              "    .colab-df-convert:hover {\n",
              "      background-color: #E2EBFA;\n",
              "      box-shadow: 0px 1px 2px rgba(60, 64, 67, 0.3), 0px 1px 3px 1px rgba(60, 64, 67, 0.15);\n",
              "      fill: #174EA6;\n",
              "    }\n",
              "\n",
              "    [theme=dark] .colab-df-convert {\n",
              "      background-color: #3B4455;\n",
              "      fill: #D2E3FC;\n",
              "    }\n",
              "\n",
              "    [theme=dark] .colab-df-convert:hover {\n",
              "      background-color: #434B5C;\n",
              "      box-shadow: 0px 1px 3px 1px rgba(0, 0, 0, 0.15);\n",
              "      filter: drop-shadow(0px 1px 2px rgba(0, 0, 0, 0.3));\n",
              "      fill: #FFFFFF;\n",
              "    }\n",
              "  </style>\n",
              "\n",
              "      <script>\n",
              "        const buttonEl =\n",
              "          document.querySelector('#df-8745e1b1-e774-40dd-95e1-8875cf03bd21 button.colab-df-convert');\n",
              "        buttonEl.style.display =\n",
              "          google.colab.kernel.accessAllowed ? 'block' : 'none';\n",
              "\n",
              "        async function convertToInteractive(key) {\n",
              "          const element = document.querySelector('#df-8745e1b1-e774-40dd-95e1-8875cf03bd21');\n",
              "          const dataTable =\n",
              "            await google.colab.kernel.invokeFunction('convertToInteractive',\n",
              "                                                     [key], {});\n",
              "          if (!dataTable) return;\n",
              "\n",
              "          const docLinkHtml = 'Like what you see? Visit the ' +\n",
              "            '<a target=\"_blank\" href=https://colab.research.google.com/notebooks/data_table.ipynb>data table notebook</a>'\n",
              "            + ' to learn more about interactive tables.';\n",
              "          element.innerHTML = '';\n",
              "          dataTable['output_type'] = 'display_data';\n",
              "          await google.colab.output.renderOutput(dataTable, element);\n",
              "          const docLink = document.createElement('div');\n",
              "          docLink.innerHTML = docLinkHtml;\n",
              "          element.appendChild(docLink);\n",
              "        }\n",
              "      </script>\n",
              "    </div>\n",
              "  </div>\n",
              "  "
            ]
          },
          "metadata": {},
          "execution_count": 10
        }
      ]
    },
    {
      "cell_type": "code",
      "source": [
        "# Dropping the 'other scientist' rows since none of the 'other scientist' posititons are data scientists\n",
        "\n",
        "data.drop(axis = 0 , index = data[data.job_title_sim.str.startswith('other')].index , inplace = True)"
      ],
      "metadata": {
        "id": "TaCwtehvL1QQ"
      },
      "execution_count": null,
      "outputs": []
    },
    {
      "cell_type": "code",
      "source": [
        "# Recreating the bar chart without the 'na' and 'other scientist' rows\n",
        "# There are a lot more data scientists than other job titles\n",
        "\n",
        "plt.barh(data.job_title_sim.value_counts().index, data.job_title_sim.value_counts().values, color = ['r','b','b','b','b','b','b','b'], edgecolor='black')\n",
        "plt.title('Count of Different Job Titles', fontweight='bold', fontsize=14)\n",
        "plt.xlabel('Number of Jobs')\n",
        "\n",
        "print('Totals for each different job title:\\n', data['job_title_sim'].value_counts());"
      ],
      "metadata": {
        "colab": {
          "base_uri": "https://localhost:8080/",
          "height": 469
        },
        "id": "R57Y9udEL9MN",
        "outputId": "5d18896c-5eb9-4af2-a984-095a3e409c7d"
      },
      "execution_count": null,
      "outputs": [
        {
          "output_type": "stream",
          "name": "stdout",
          "text": [
            "Totals for each different job title:\n",
            " data scientist                    313\n",
            "data engineer                     119\n",
            "analyst                           101\n",
            "machine learning engineer          22\n",
            "Data scientist project manager     16\n",
            "data analitics                      8\n",
            "data modeler                        5\n",
            "director                            5\n",
            "Name: job_title_sim, dtype: int64\n"
          ]
        },
        {
          "output_type": "display_data",
          "data": {
            "text/plain": [
              "<Figure size 432x288 with 1 Axes>"
            ],
            "image/png": "[encoded data removed]"
          },
          "metadata": {
            "needs_background": "light"
          }
        }
      ]
    },
    {
      "cell_type": "code",
      "source": [
        "# I chose to do a histogram plot with the Avg Salary(K) vs the number of jobs\n",
        "\n",
        "data_avg_sal = data['Avg Salary(K)']\n",
        "data_avg_sal.hist(bins = 20, color=['lightgreen'], edgecolor='black')\n",
        "plt.title('Number of Jobs for Different Salaries(K)', fontweight='bold', fontsize=14)\n",
        "plt.xlabel('Salary(K)')\n",
        "plt.ylabel('Number of Jobs');"
      ],
      "metadata": {
        "colab": {
          "base_uri": "https://localhost:8080/",
          "height": 296
        },
        "id": "AYVihVmjMO9H",
        "outputId": "fb0c1dd8-f43c-4817-af6e-56bb0ce126f3"
      },
      "execution_count": null,
      "outputs": [
        {
          "output_type": "display_data",
          "data": {
            "text/plain": [
              "<Figure size 432x288 with 1 Axes>"
            ],
            "image/png": "[encoded data removed]"
          },
          "metadata": {
            "needs_background": "light"
          }
        }
      ]
    },
    {
      "cell_type": "code",
      "source": [
        "# It appears to be normally distributed with the majority of salaries range from $80K to $120K"
      ],
      "metadata": {
        "id": "Cmlg_htVFMmB"
      },
      "execution_count": null,
      "outputs": []
    },
    {
      "cell_type": "code",
      "source": [
        "data_ds = data[data.job_title_sim.str.contains('scientist')]\n",
        "\n",
        "All_Job_Titles = data['Avg Salary(K)']\n",
        "Data_Scientists = data_ds['Avg Salary(K)']\n",
        "xlabels = [0,1]\n",
        "xtick_labels = ['All Job Titles', 'Data Scientists']\n",
        "sns.boxplot(data=[All_Job_Titles, Data_Scientists],\n",
        "            palette=[sns.xkcd_rgb[\"pale red\"], sns.xkcd_rgb[\"medium green\"]],\n",
        "            showmeans=True,\n",
        "            )\n",
        "plt.title('Avgerage Salary(K) Comparison', fontweight='bold', fontsize=14)\n",
        "plt.ylabel('Average Salary(K)', fontsize=12)\n",
        "plt.xticks(xlabels, xtick_labels, fontsize=14)\n",
        "plt.grid(axis='y')\n",
        "\n",
        "print('All Job Titles:\\n', data['Avg Salary(K)'].describe())\n",
        "print()\n",
        "print('Only Data Scientists:\\n', data_ds['Avg Salary(K)'].describe())\n",
        "print();"
      ],
      "metadata": {
        "colab": {
          "base_uri": "https://localhost:8080/",
          "height": 668
        },
        "id": "L0Gvwv6fKOuJ",
        "outputId": "29556c97-5bc0-4608-bf86-19da1cad707a"
      },
      "execution_count": null,
      "outputs": [
        {
          "output_type": "stream",
          "name": "stdout",
          "text": [
            "All Job Titles:\n",
            " count    589.00000\n",
            "mean     104.91511\n",
            "std       38.16388\n",
            "min       15.50000\n",
            "25%       77.50000\n",
            "50%      101.00000\n",
            "75%      127.50000\n",
            "max      254.00000\n",
            "Name: Avg Salary(K), dtype: float64\n",
            "\n",
            "Only Data Scientists:\n",
            " count    329.000000\n",
            "mean     116.101824\n",
            "std       36.536185\n",
            "min       15.500000\n",
            "25%       87.500000\n",
            "50%      111.500000\n",
            "75%      140.000000\n",
            "max      254.000000\n",
            "Name: Avg Salary(K), dtype: float64\n",
            "\n"
          ]
        },
        {
          "output_type": "display_data",
          "data": {
            "text/plain": [
              "<Figure size 432x288 with 1 Axes>"
            ],
            "image/png": "[encoded data removed]"
          },
          "metadata": {
            "needs_background": "light"
          }
        }
      ]
    },
    {
      "cell_type": "code",
      "source": [
        "# From the boxplot, it is very easy to see the most common range of salaries\n",
        "# You can see that the Data Scientist mean salary is $116,101\n",
        "# and the mean salary for all job titles is $104,915"
      ],
      "metadata": {
        "id": "Duj-bI8ZFfgD"
      },
      "execution_count": null,
      "outputs": []
    },
    {
      "cell_type": "markdown",
      "source": [
        "# **What is the most popular job title?**"
      ],
      "metadata": {
        "id": "6PfP8_1XP07u"
      }
    },
    {
      "cell_type": "code",
      "source": [
        "# I chose the bar chart because it is simple and gets to the point\n",
        "# It's very easy to see which job titles are used the most\n",
        "\n",
        "plt.barh(data.job_title_sim.value_counts().index, data.job_title_sim.value_counts().values, color = ['r','b','b','b','b','b','b','b'], edgecolor='black')\n",
        "plt.title('Count of Different Job Titles')\n",
        "plt.xlabel('Number of Jobs');\n",
        "\n",
        "print(data['job_title_sim'].value_counts())"
      ],
      "metadata": {
        "colab": {
          "base_uri": "https://localhost:8080/"
        },
        "id": "Dv5CDEOkP6f_",
        "outputId": "8b89e045-25de-40a9-d45b-0e9630344c2a"
      },
      "execution_count": null,
      "outputs": [
        {
          "output_type": "stream",
          "name": "stdout",
          "text": [
            "data scientist                    313\n",
            "data engineer                     119\n",
            "analyst                           101\n",
            "machine learning engineer          22\n",
            "Data scientist project manager     16\n",
            "data analitics                      8\n",
            "data modeler                        5\n",
            "director                            5\n",
            "Name: job_title_sim, dtype: int64\n"
          ]
        },
        {
          "output_type": "display_data",
          "data": {
            "text/plain": [
              "<Figure size 432x288 with 1 Axes>"
            ],
            "image/png": "[encoded data removed]"
          },
          "metadata": {
            "needs_background": "light"
          }
        }
      ]
    },
    {
      "cell_type": "markdown",
      "source": [
        "# **What are the top companies using data scientists?**"
      ],
      "metadata": {
        "id": "DBg3tR_nQiiF"
      }
    },
    {
      "cell_type": "code",
      "source": [
        "# Creating a new dataframe with 'scientist' in the 'job_title_sim' column\n",
        "\n",
        "data_ds = data[data.job_title_sim.str.contains('scientist')]"
      ],
      "metadata": {
        "id": "FkNLjQj_SXqd"
      },
      "execution_count": null,
      "outputs": []
    },
    {
      "cell_type": "code",
      "source": [
        "# Getting the counts of the 'data scientist' from 'job_title_sim' column\n",
        "\n",
        "data_ds.job_title_sim.value_counts()"
      ],
      "metadata": {
        "colab": {
          "base_uri": "https://localhost:8080/"
        },
        "id": "RT8dV7kgSgxV",
        "outputId": "af896d11-a950-40b1-a637-3d059def93b5"
      },
      "execution_count": null,
      "outputs": [
        {
          "output_type": "execute_result",
          "data": {
            "text/plain": [
              "data scientist                    313\n",
              "Data scientist project manager     16\n",
              "Name: job_title_sim, dtype: int64"
            ]
          },
          "metadata": {},
          "execution_count": 19
        }
      ]
    },
    {
      "cell_type": "code",
      "source": [
        "# Getting the total counts of 'Data Scientists' for each company\n",
        "\n",
        "data_ds_companies = data_ds['Company Name'].value_counts()\n",
        "data_ds_companies.head(20)"
      ],
      "metadata": {
        "colab": {
          "base_uri": "https://localhost:8080/"
        },
        "id": "Hv8qxzzZTh3c",
        "outputId": "8c36657e-cba7-4d76-b2b6-b71a2c7a6cab"
      },
      "execution_count": null,
      "outputs": [
        {
          "output_type": "execute_result",
          "data": {
            "text/plain": [
              "PNNL\\n3.8                                      10\n",
              "Liberty Mutual Insurance\\n3.3                   8\n",
              "MITRE\\n3.2                                      8\n",
              "Novartis\\n3.8                                   7\n",
              "Numeric, LLC\\n3.2                               6\n",
              "MassMutual\\n3.6                                 6\n",
              "Pfizer\\n4.0                                     6\n",
              "Esri\\n3.5                                       6\n",
              "AstraZeneca\\n3.9                                6\n",
              "Maven Wave Partners\\n4.4                        4\n",
              "TransUnion\\n3.9                                 4\n",
              "Central California Alliance for Health\\n3.5     4\n",
              "h2o.ai\\n4.3                                     4\n",
              "Nuna\\n4.2                                       4\n",
              "Northrop Grumman\\n3.7                           4\n",
              "Zest AI\\n3.9                                    4\n",
              "Sartorius\\n3.5                                  4\n",
              "Juniper Networks\\n3.8                           4\n",
              "Novetta\\n4.0                                    4\n",
              "Visa Inc.\\n3.7                                  3\n",
              "Name: Company Name, dtype: int64"
            ]
          },
          "metadata": {},
          "execution_count": 20
        }
      ]
    },
    {
      "cell_type": "code",
      "source": [
        "# I chose the bar chart because it is simple and gets to the point\n",
        "# It's very easy to see which companies use the most Data Scientists\n",
        "\n",
        "plt.barh(data_ds['company_txt'].value_counts().index[:10] , data_ds['company_txt'].value_counts().values[:10], color=['r','b','b','b','b','b','b','b','b','b'], edgecolor=['black'])\n",
        "plt.title('Companies With The Most Data Scientists', fontweight='bold', fontsize=14)\n",
        "plt.xlabel('Number of Data Scientists', color = 'black', fontsize='12', horizontalalignment='center')\n",
        "plt.yticks(rotation=0);"
      ],
      "metadata": {
        "colab": {
          "base_uri": "https://localhost:8080/"
        },
        "id": "Sc72zoPuSn-h",
        "outputId": "ca1a354a-247d-4238-b01e-675393ec27e2"
      },
      "execution_count": null,
      "outputs": [
        {
          "output_type": "display_data",
          "data": {
            "text/plain": [
              "<Figure size 432x288 with 1 Axes>"
            ],
            "image/png": "[encoded data removed]"
          },
          "metadata": {
            "needs_background": "light"
          }
        }
      ]
    },
    {
      "cell_type": "markdown",
      "source": [
        "# **What are the top fields using data scientists?**"
      ],
      "metadata": {
        "id": "meJIjD_EYyL-"
      }
    },
    {
      "cell_type": "code",
      "source": [
        "# I chose the bar chart because it is simple and gets to the point\n",
        "# It's very easy to see which fields use the most Data Scientists\n",
        "\n",
        "plt.barh(data_ds['Industry'].value_counts().index[:10] , data_ds['Industry'].value_counts().values[:10], color= ['r','b','b','b','b','b','b','b','b','b'], edgecolor=['black'])\n",
        "plt.title('Fields With The Most Data Scientists', fontweight='bold', fontsize=14)\n",
        "plt.xlabel('Number of Data Scientists', color = 'black', fontsize='12', horizontalalignment='center')\n",
        "print(data_ds['Industry'].value_counts());"
      ],
      "metadata": {
        "colab": {
          "base_uri": "https://localhost:8080/"
        },
        "id": "m8i6APXSY1wL",
        "outputId": "b8258bc6-1d09-4549-af05-ded2b49e25ae"
      },
      "execution_count": null,
      "outputs": [
        {
          "output_type": "stream",
          "name": "stdout",
          "text": [
            "Biotech & Pharmaceuticals                  39\n",
            "Computer Hardware & Software               30\n",
            "Insurance Carriers                         30\n",
            "Enterprise Software & Network Solutions    25\n",
            "IT Services                                22\n",
            "Advertising & Marketing                    18\n",
            "Consulting                                 17\n",
            "Aerospace & Defense                        14\n",
            "Energy                                     12\n",
            "Health Care Services & Hospitals           11\n",
            "Federal Agencies                            8\n",
            "Financial Analytics & Research              8\n",
            "Banks & Credit Unions                       7\n",
            "Internet                                    7\n",
            "Staffing & Outsourcing                      7\n",
            "Insurance Agencies & Brokerages             6\n",
            "Real Estate                                 6\n",
            "Logistics & Supply Chain                    4\n",
            "Telecommunications Services                 4\n",
            "Research & Development                      4\n",
            "Investment Banking & Asset Management       4\n",
            "Industrial Manufacturing                    3\n",
            "Lending                                     3\n",
            "Colleges & Universities                     3\n",
            "Consumer Products Manufacturing             3\n",
            "Travel Agencies                             3\n",
            "Security Services                           3\n",
            "Education Training Services                 3\n",
            "TV Broadcast & Cable Networks               2\n",
            "K-12 Education                              2\n",
            "Financial Transaction Processing            2\n",
            "Wholesale                                   2\n",
            "Sporting Goods Stores                       2\n",
            "Metals Brokers                              2\n",
            "Department, Clothing, & Shoe Stores         2\n",
            "Consumer Product Rental                     2\n",
            "Farm Support Services                       1\n",
            "Transportation Equipment Manufacturing      1\n",
            "Brokerage Services                          1\n",
            "Mining                                      1\n",
            "Auctions & Galleries                        1\n",
            "Other Retail Stores                         1\n",
            "Accounting                                  1\n",
            "-1                                          1\n",
            "Health, Beauty, & Fitness                   1\n",
            "Name: Industry, dtype: int64\n"
          ]
        },
        {
          "output_type": "display_data",
          "data": {
            "text/plain": [
              "<Figure size 432x288 with 1 Axes>"
            ],
            "image/png": "[encoded data removed]"
          },
          "metadata": {
            "needs_background": "light"
          }
        }
      ]
    },
    {
      "cell_type": "markdown",
      "source": [
        "# **Does the business industry impact the salary of Data Scientists?**"
      ],
      "metadata": {
        "id": "X5TEgcDpwlPl"
      }
    },
    {
      "cell_type": "code",
      "source": [
        "# Here is a scatter plot of Industry vs Avg Salary(K)\n",
        "\n",
        "data_ds_avg_sal = data_ds['Avg Salary(K)']\n",
        "\n",
        "plt.figure(figsize=(18,6))\n",
        "plt.scatter(data_ds['Industry'], data_ds['Avg Salary(K)'], color='r', marker='o')\n",
        "plt.ylabel('Average Salary(K)', fontsize=14)\n",
        "plt.xticks(rotation=90)\n",
        "plt.grid(axis='x')\n",
        "plt.grid(axis='y');"
      ],
      "metadata": {
        "colab": {
          "base_uri": "https://localhost:8080/"
        },
        "id": "_t3UE9hBwsdd",
        "outputId": "8df0064b-f489-436e-91a7-9eaf21c1e6ca"
      },
      "execution_count": null,
      "outputs": [
        {
          "output_type": "display_data",
          "data": {
            "text/plain": [
              "<Figure size 1296x432 with 1 Axes>"
            ],
            "image/png": "[encoded data removed]"
          },
          "metadata": {
            "needs_background": "light"
          }
        }
      ]
    },
    {
      "cell_type": "code",
      "source": [
        "# There are some clusters for a lot of different sectors, \n",
        "# but I do not see any direct correlation to a specific sector\n",
        "# Now lets find the Average of the 'Avg Salary(K)' for the top sectors"
      ],
      "metadata": {
        "id": "q890fWruMjXn"
      },
      "execution_count": null,
      "outputs": []
    },
    {
      "cell_type": "code",
      "source": [
        "sector_bioph = data_ds.loc[data_ds['Industry'] == 'Biotech & Pharmaceuticals'].mean().round(5)\n",
        "sector_cpu = data_ds.loc[data_ds['Industry'] == 'Computer Hardware & Software'].mean().round(5)\n",
        "sector_ins = data_ds.loc[data_ds['Industry'] == 'Insurance Carriers'].mean().round(5)\n",
        "sector_ent = data_ds.loc[data_ds['Industry'] == 'Enterprise Software & Network Solutions'].mean().round(5)\n",
        "sector_it = data_ds.loc[data_ds['Industry'] == 'IT Services'].mean().round(5)\n",
        "sector_adv = data_ds.loc[data_ds['Industry'] == 'Advertising & Marketing'].mean().round(5)\n",
        "sector_cons = data_ds.loc[data_ds['Industry'] == 'Consulting'].mean().round(5)\n",
        "sector_aero = data_ds.loc[data_ds['Industry'] == 'Aerospace & Defense'].mean().round(5)\n",
        "sector_energy = data_ds.loc[data_ds['Industry'] == 'Energy'].mean().round(5)\n",
        "sector_health = data_ds.loc[data_ds['Industry'] == 'Health Care Services & Hospitals'].mean().round(5)\n",
        "\n",
        "\n",
        "print('Average salary for all Data Scientists is:                     ', data_ds['Avg Salary(K)'].mean())\n",
        "print('Average salary for Biotech & Pharmaceuticals is:               ', sector_bioph['Avg Salary(K)'])\n",
        "print('Average salary for Computer Hardware & Software is:            ', sector_cpu['Avg Salary(K)'])\n",
        "print('Average salary for Insurance Carriers is:                      ', sector_ins['Avg Salary(K)'])\n",
        "print('Average salary for Enterprise Software & Network Solutions is: ', sector_ent['Avg Salary(K)'])\n",
        "print('Average salary for IT Services is:                             ', sector_it['Avg Salary(K)'])\n",
        "print('Average salary for Advertising & Marketing is:                 ', sector_adv['Avg Salary(K)'])\n",
        "print('Average salary for Consulting is:                              ', sector_cons['Avg Salary(K)'])\n",
        "print('Average salary for Aerospace & Defense is:                     ', sector_aero['Avg Salary(K)'])\n",
        "print('Average salary for Energy is:                                  ', sector_energy['Avg Salary(K)'])\n",
        "print('Average salary for Health Care Services & Hospitals is:        ', sector_health['Avg Salary(K)'])\n"
      ],
      "metadata": {
        "colab": {
          "base_uri": "https://localhost:8080/"
        },
        "id": "l2w9BWB0S8E8",
        "outputId": "3d713127-6b3b-4295-b1e5-73e1a825f6ee"
      },
      "execution_count": null,
      "outputs": [
        {
          "output_type": "stream",
          "name": "stdout",
          "text": [
            "Average salary for all Data Scientists is:                      116.10182370820668\n",
            "Average salary for Biotech & Pharmaceuticals is:                123.11538\n",
            "Average salary for Computer Hardware & Software is:             119.01667\n",
            "Average salary for Insurance Carriers is:                       129.66667\n",
            "Average salary for Enterprise Software & Network Solutions is:  144.86\n",
            "Average salary for IT Services is:                              127.04545\n",
            "Average salary for Advertising & Marketing is:                  110.02778\n",
            "Average salary for Consulting is:                               113.17647\n",
            "Average salary for Aerospace & Defense is:                      110.67857\n",
            "Average salary for Energy is:                                   83.70833\n",
            "Average salary for Health Care Services & Hospitals is:         100.54545\n"
          ]
        },
        {
          "output_type": "stream",
          "name": "stderr",
          "text": [
            "/usr/local/lib/python3.7/dist-packages/ipykernel_launcher.py:1: FutureWarning: Dropping of nuisance columns in DataFrame reductions (with 'numeric_only=None') is deprecated; in a future version this will raise TypeError.  Select only valid columns before calling the reduction.\n",
            "  \"\"\"Entry point for launching an IPython kernel.\n",
            "/usr/local/lib/python3.7/dist-packages/ipykernel_launcher.py:2: FutureWarning: Dropping of nuisance columns in DataFrame reductions (with 'numeric_only=None') is deprecated; in a future version this will raise TypeError.  Select only valid columns before calling the reduction.\n",
            "  \n",
            "/usr/local/lib/python3.7/dist-packages/ipykernel_launcher.py:3: FutureWarning: Dropping of nuisance columns in DataFrame reductions (with 'numeric_only=None') is deprecated; in a future version this will raise TypeError.  Select only valid columns before calling the reduction.\n",
            "  This is separate from the ipykernel package so we can avoid doing imports until\n",
            "/usr/local/lib/python3.7/dist-packages/ipykernel_launcher.py:4: FutureWarning: Dropping of nuisance columns in DataFrame reductions (with 'numeric_only=None') is deprecated; in a future version this will raise TypeError.  Select only valid columns before calling the reduction.\n",
            "  after removing the cwd from sys.path.\n",
            "/usr/local/lib/python3.7/dist-packages/ipykernel_launcher.py:5: FutureWarning: Dropping of nuisance columns in DataFrame reductions (with 'numeric_only=None') is deprecated; in a future version this will raise TypeError.  Select only valid columns before calling the reduction.\n",
            "  \"\"\"\n",
            "/usr/local/lib/python3.7/dist-packages/ipykernel_launcher.py:6: FutureWarning: Dropping of nuisance columns in DataFrame reductions (with 'numeric_only=None') is deprecated; in a future version this will raise TypeError.  Select only valid columns before calling the reduction.\n",
            "  \n",
            "/usr/local/lib/python3.7/dist-packages/ipykernel_launcher.py:7: FutureWarning: Dropping of nuisance columns in DataFrame reductions (with 'numeric_only=None') is deprecated; in a future version this will raise TypeError.  Select only valid columns before calling the reduction.\n",
            "  import sys\n",
            "/usr/local/lib/python3.7/dist-packages/ipykernel_launcher.py:8: FutureWarning: Dropping of nuisance columns in DataFrame reductions (with 'numeric_only=None') is deprecated; in a future version this will raise TypeError.  Select only valid columns before calling the reduction.\n",
            "  \n",
            "/usr/local/lib/python3.7/dist-packages/ipykernel_launcher.py:9: FutureWarning: Dropping of nuisance columns in DataFrame reductions (with 'numeric_only=None') is deprecated; in a future version this will raise TypeError.  Select only valid columns before calling the reduction.\n",
            "  if __name__ == '__main__':\n",
            "/usr/local/lib/python3.7/dist-packages/ipykernel_launcher.py:10: FutureWarning: Dropping of nuisance columns in DataFrame reductions (with 'numeric_only=None') is deprecated; in a future version this will raise TypeError.  Select only valid columns before calling the reduction.\n",
            "  # Remove the CWD from sys.path while we load stuff.\n"
          ]
        }
      ]
    },
    {
      "cell_type": "code",
      "source": [
        "# Enterprise Software & Network Solutions has the highest mean salary"
      ],
      "metadata": {
        "id": "bXVWuMZkPJ0D"
      },
      "execution_count": null,
      "outputs": []
    },
    {
      "cell_type": "markdown",
      "source": [
        "# **Does the company revenue affect the salary?**"
      ],
      "metadata": {
        "id": "Q0evyGtLa0jp"
      }
    },
    {
      "cell_type": "code",
      "source": [
        "# The 'Revenue' column needs to be cleaned - $symbol and words\n",
        "# It needs to have consistent units - converting all to millions\n",
        "\n",
        "data_ds['Revenue'].value_counts()"
      ],
      "metadata": {
        "id": "5UGFQCBIbF0j",
        "colab": {
          "base_uri": "https://localhost:8080/"
        },
        "outputId": "8bfa41e2-fdcb-401f-e39b-c2063a23ede2"
      },
      "execution_count": null,
      "outputs": [
        {
          "output_type": "execute_result",
          "data": {
            "text/plain": [
              "Unknown / Non-Applicable            84\n",
              "$10+ billion (USD)                  61\n",
              "$1 to $2 billion (USD)              39\n",
              "$100 to $500 million (USD)          29\n",
              "$500 million to $1 billion (USD)    29\n",
              "$50 to $100 million (USD)           18\n",
              "$2 to $5 billion (USD)              17\n",
              "$5 to $10 million (USD)             12\n",
              "$25 to $50 million (USD)            11\n",
              "$10 to $25 million (USD)            11\n",
              "$5 to $10 billion (USD)             10\n",
              "$1 to $5 million (USD)               5\n",
              "Less than $1 million (USD)           3\n",
              "Name: Revenue, dtype: int64"
            ]
          },
          "metadata": {},
          "execution_count": 27
        }
      ]
    },
    {
      "cell_type": "code",
      "source": [
        "# Removing the 'Unknown / Non-Applicable' values\n",
        "\n",
        "data_ds_rev = data_ds[data_ds.Revenue != 'Unknown / Non-Applicable']\n",
        "data_ds_rev['Revenue'].head()"
      ],
      "metadata": {
        "colab": {
          "base_uri": "https://localhost:8080/"
        },
        "id": "uDuTNUwHZC77",
        "outputId": "020a3afe-50fa-47e0-c74e-8365730974a4"
      },
      "execution_count": null,
      "outputs": [
        {
          "output_type": "execute_result",
          "data": {
            "text/plain": [
              "0           $50 to $100 million (USD)\n",
              "1              $2 to $5 billion (USD)\n",
              "2          $100 to $500 million (USD)\n",
              "3    $500 million to $1 billion (USD)\n",
              "5              $1 to $2 billion (USD)\n",
              "Name: Revenue, dtype: object"
            ]
          },
          "metadata": {},
          "execution_count": 28
        }
      ]
    },
    {
      "cell_type": "code",
      "source": [
        "# Removing the $ and other unnecessary strings and symbols\n",
        "data_ds_rev_new = data_ds_rev['Revenue'].str.replace('$','')\n",
        "data_ds_rev_new = data_ds_rev_new.str.replace(' ','')\n",
        "data_ds_rev_new = data_ds_rev_new.str.replace('to','-')\n",
        "data_ds_rev_new = data_ds_rev_new.str.replace('million','')\n",
        "data_ds_rev_new = data_ds_rev_new.str.replace('billion','000')\n",
        "data_ds_rev_new = data_ds_rev_new.str.replace('+','-10')\n",
        "data_ds_rev_new = data_ds_rev_new.str.replace('(','')\n",
        "data_ds_rev_new = data_ds_rev_new.str.replace(')','')\n",
        "data_ds_rev_new = data_ds_rev_new.str.replace('USD','')\n",
        "data_ds_rev_new = data_ds_rev_new.dropna(how='all')\n",
        "\n",
        "data_ds_rev_new = data_ds_rev_new.str.split('-').str[1]\n",
        "\n",
        "print(data_ds_rev_new.head(10))"
      ],
      "metadata": {
        "colab": {
          "base_uri": "https://localhost:8080/"
        },
        "id": "1TTY4Z-YZ8gM",
        "outputId": "6d1cc2a7-c49e-4c4b-e7ac-42fb4c1aad02"
      },
      "execution_count": null,
      "outputs": [
        {
          "output_type": "stream",
          "name": "stdout",
          "text": [
            "0       100\n",
            "1      5000\n",
            "2       500\n",
            "3      1000\n",
            "5      2000\n",
            "7        50\n",
            "9       500\n",
            "10     2000\n",
            "11     2000\n",
            "12    10000\n",
            "Name: Revenue, dtype: object\n"
          ]
        },
        {
          "output_type": "stream",
          "name": "stderr",
          "text": [
            "/usr/local/lib/python3.7/dist-packages/ipykernel_launcher.py:2: FutureWarning: The default value of regex will change from True to False in a future version. In addition, single character regular expressions will *not* be treated as literal strings when regex=True.\n",
            "  \n",
            "/usr/local/lib/python3.7/dist-packages/ipykernel_launcher.py:7: FutureWarning: The default value of regex will change from True to False in a future version. In addition, single character regular expressions will *not* be treated as literal strings when regex=True.\n",
            "  import sys\n",
            "/usr/local/lib/python3.7/dist-packages/ipykernel_launcher.py:8: FutureWarning: The default value of regex will change from True to False in a future version. In addition, single character regular expressions will *not* be treated as literal strings when regex=True.\n",
            "  \n",
            "/usr/local/lib/python3.7/dist-packages/ipykernel_launcher.py:9: FutureWarning: The default value of regex will change from True to False in a future version. In addition, single character regular expressions will *not* be treated as literal strings when regex=True.\n",
            "  if __name__ == '__main__':\n"
          ]
        }
      ]
    },
    {
      "cell_type": "code",
      "source": [
        "data_ds_rev_new = data_ds_rev_new.astype(float)\n",
        "\n",
        "plt.scatter(data_ds_rev_new, data_ds_rev['Avg Salary(K)'], color='green')\n",
        "plt.title('Company Revenue (Millions) vs Avg Salary(K)', fontweight='bold', fontsize=14)\n",
        "plt.ylabel('Average Salary(K)', fontsize=14)\n",
        "plt.xlabel('Company Revenue in Millions')\n",
        "plt.grid(axis='x')\n",
        "plt.ticklabel_format()\n",
        "plt.xticks(rotation=45);"
      ],
      "metadata": {
        "colab": {
          "base_uri": "https://localhost:8080/"
        },
        "id": "TLeQlBzvdzF4",
        "outputId": "47adcf48-30a8-4543-dc92-7ece6800877e"
      },
      "execution_count": null,
      "outputs": [
        {
          "output_type": "display_data",
          "data": {
            "text/plain": [
              "<Figure size 432x288 with 1 Axes>"
            ],
            "image/png": "[encoded data removed]"
          },
          "metadata": {
            "needs_background": "light"
          }
        }
      ]
    },
    {
      "cell_type": "code",
      "source": [
        "# I do not see any direct correlation with company revenue and average data scientist salaries\n",
        "# other than the companies with revenue at $10 billion have more higher salaries,\n",
        "# but also have a lot of lower salaries"
      ],
      "metadata": {
        "id": "fYFr_IfJtkBG"
      },
      "execution_count": null,
      "outputs": []
    },
    {
      "cell_type": "code",
      "source": [
        "def company_by_revenue(revenue):\n",
        "    if(revenue < 2500):\n",
        "        return 'Low'\n",
        "    \n",
        "    elif(revenue < 6000):\n",
        "        return 'Medium'\n",
        "    \n",
        "    else :\n",
        "        return 'High'"
      ],
      "metadata": {
        "id": "81F9fhfruZFD"
      },
      "execution_count": null,
      "outputs": []
    },
    {
      "cell_type": "code",
      "source": [
        "data_ds['co_revenue'] = data_ds_rev_new.apply(lambda x: company_by_revenue(x))"
      ],
      "metadata": {
        "colab": {
          "base_uri": "https://localhost:8080/"
        },
        "id": "uQFSNVaXva78",
        "outputId": "24d1c19b-c932-4186-c83d-446242c3902c"
      },
      "execution_count": null,
      "outputs": [
        {
          "output_type": "stream",
          "name": "stderr",
          "text": [
            "/usr/local/lib/python3.7/dist-packages/ipykernel_launcher.py:1: SettingWithCopyWarning: \n",
            "A value is trying to be set on a copy of a slice from a DataFrame.\n",
            "Try using .loc[row_indexer,col_indexer] = value instead\n",
            "\n",
            "See the caveats in the documentation: https://pandas.pydata.org/pandas-docs/stable/user_guide/indexing.html#returning-a-view-versus-a-copy\n",
            "  \"\"\"Entry point for launching an IPython kernel.\n"
          ]
        }
      ]
    },
    {
      "cell_type": "code",
      "source": [
        "data_ds_revenue = data_ds.groupby('co_revenue').mean().sort_values(by = 'Avg Salary(K)', ascending = False)\n",
        "\n",
        "plt.barh(data_ds_revenue.index[:10] , data_ds_revenue['Avg Salary(K)'][:10], color='green', edgecolor='black')\n",
        "plt.title('Company Revenue vs Average Salary(K)', fontsize=14, fontweight='bold')\n",
        "plt.xlabel('Average Salary(K)', fontsize=14);"
      ],
      "metadata": {
        "colab": {
          "base_uri": "https://localhost:8080/"
        },
        "id": "3nAo7Bw2xqA5",
        "outputId": "ae890fe4-075a-458f-cc25-8c18ae8be85a"
      },
      "execution_count": null,
      "outputs": [
        {
          "output_type": "display_data",
          "data": {
            "text/plain": [
              "<Figure size 432x288 with 1 Axes>"
            ],
            "image/png": "[encoded data removed]"
          },
          "metadata": {
            "needs_background": "light"
          }
        }
      ]
    },
    {
      "cell_type": "code",
      "source": [
        "data_ds.boxplot('Avg Salary(K)', by='co_revenue', figsize=(10, 6));"
      ],
      "metadata": {
        "colab": {
          "base_uri": "https://localhost:8080/"
        },
        "id": "WOvqsbuW9mXG",
        "outputId": "d67f391a-9e30-49aa-b07a-3ca845ab5793"
      },
      "execution_count": null,
      "outputs": [
        {
          "output_type": "stream",
          "name": "stderr",
          "text": [
            "/usr/local/lib/python3.7/dist-packages/matplotlib/cbook/__init__.py:1376: VisibleDeprecationWarning: Creating an ndarray from ragged nested sequences (which is a list-or-tuple of lists-or-tuples-or ndarrays with different lengths or shapes) is deprecated. If you meant to do this, you must specify 'dtype=object' when creating the ndarray.\n",
            "  X = np.atleast_1d(X.T if isinstance(X, np.ndarray) else np.asarray(X))\n"
          ]
        },
        {
          "output_type": "display_data",
          "data": {
            "text/plain": [
              "<Figure size 720x432 with 1 Axes>"
            ],
            "image/png": "[encoded data removed]"
          },
          "metadata": {
            "needs_background": "light"
          }
        }
      ]
    },
    {
      "cell_type": "code",
      "source": [
        "data_ds['Avg Salary(K)'].hist(by = data_ds['co_revenue'])"
      ],
      "metadata": {
        "colab": {
          "base_uri": "https://localhost:8080/"
        },
        "id": "6hWeo2No98Dw",
        "outputId": "e004e7cc-d75f-4424-a6aa-1850a90745e5"
      },
      "execution_count": null,
      "outputs": [
        {
          "output_type": "execute_result",
          "data": {
            "text/plain": [
              "array([[<matplotlib.axes._subplots.AxesSubplot object at 0x7f7b638b1110>,\n",
              "        <matplotlib.axes._subplots.AxesSubplot object at 0x7f7b63924b50>],\n",
              "       [<matplotlib.axes._subplots.AxesSubplot object at 0x7f7b63895c10>,\n",
              "        <matplotlib.axes._subplots.AxesSubplot object at 0x7f7b63905ad0>]],\n",
              "      dtype=object)"
            ]
          },
          "metadata": {},
          "execution_count": 36
        },
        {
          "output_type": "display_data",
          "data": {
            "text/plain": [
              "<Figure size 432x288 with 4 Axes>"
            ],
            "image/png": "[encoded data removed]"
          },
          "metadata": {
            "needs_background": "light"
          }
        }
      ]
    },
    {
      "cell_type": "code",
      "source": [
        "# Let's run the F_oneway test\n",
        "\n",
        "Low = data_ds[data_ds['co_revenue'] == 'Low']\n",
        "Medium = data_ds[data_ds['co_revenue'] == 'Medium']\n",
        "High = data_ds[data_ds['co_revenue'] == 'High']\n",
        "\n",
        "\n",
        "stats.f_oneway(Low['Avg Salary(K)'], Medium['Avg Salary(K)'], High['Avg Salary(K)'])"
      ],
      "metadata": {
        "colab": {
          "base_uri": "https://localhost:8080/"
        },
        "id": "_J7Lyw3LyAVi",
        "outputId": "6484af71-ca85-4421-bf9f-01e7ec03718d"
      },
      "execution_count": null,
      "outputs": [
        {
          "output_type": "execute_result",
          "data": {
            "text/plain": [
              "F_onewayResult(statistic=10.619865871029178, pvalue=3.7943299818341065e-05)"
            ]
          },
          "metadata": {},
          "execution_count": 37
        }
      ]
    },
    {
      "cell_type": "code",
      "source": [
        "# the p-value from the F_oneway test is < 0.05 therefore the means are not equal"
      ],
      "metadata": {
        "id": "KxxOgWVSCagT"
      },
      "execution_count": null,
      "outputs": []
    },
    {
      "cell_type": "code",
      "source": [
        "# let's check ttest values for each pair\n",
        "\n",
        "print(stats.ttest_ind(Low['Avg Salary(K)'], Medium['Avg Salary(K)']))\n",
        "print(stats.ttest_ind(Low['Avg Salary(K)'], High['Avg Salary(K)']))\n",
        "print(stats.ttest_ind(Medium['Avg Salary(K)'], High['Avg Salary(K)']))"
      ],
      "metadata": {
        "colab": {
          "base_uri": "https://localhost:8080/"
        },
        "id": "o2E78dGR8384",
        "outputId": "34809285-b9f3-439f-8741-9e039c5bbdc1"
      },
      "execution_count": null,
      "outputs": [
        {
          "output_type": "stream",
          "name": "stdout",
          "text": [
            "Ttest_indResult(statistic=-1.0444438027838248, pvalue=0.29777175004975337)\n",
            "Ttest_indResult(statistic=-4.529019188004158, pvalue=9.592797494351334e-06)\n",
            "Ttest_indResult(statistic=-1.3343434017024274, pvalue=0.18549535818264618)\n"
          ]
        }
      ]
    },
    {
      "cell_type": "code",
      "source": [
        "# let's run the Tukey's HSD test\n",
        "data_ds['co_revenue'] = data_ds['co_revenue'].astype(str)\n",
        "tukey = pairwise_tukeyhsd(endog = data_ds['Avg Salary(K)'], groups = data_ds['co_revenue'], alpha=0.05)\n",
        "\n",
        "tukey.summary()"
      ],
      "metadata": {
        "colab": {
          "base_uri": "https://localhost:8080/"
        },
        "id": "TXncuea--6RN",
        "outputId": "473b5228-d2b6-4e7c-da66-f9045078bacf"
      },
      "execution_count": null,
      "outputs": [
        {
          "output_type": "stream",
          "name": "stderr",
          "text": [
            "/usr/local/lib/python3.7/dist-packages/ipykernel_launcher.py:2: SettingWithCopyWarning: \n",
            "A value is trying to be set on a copy of a slice from a DataFrame.\n",
            "Try using .loc[row_indexer,col_indexer] = value instead\n",
            "\n",
            "See the caveats in the documentation: https://pandas.pydata.org/pandas-docs/stable/user_guide/indexing.html#returning-a-view-versus-a-copy\n",
            "  \n"
          ]
        },
        {
          "output_type": "execute_result",
          "data": {
            "text/plain": [
              "<class 'statsmodels.iolib.table.SimpleTable'>"
            ],
            "text/html": [
              "<table class=\"simpletable\">\n",
              "<caption>Multiple Comparison of Means - Tukey HSD, FWER=0.05</caption>\n",
              "<tr>\n",
              "  <th>group1</th> <th>group2</th> <th>meandiff</th>  <th>p-adj</th>   <th>lower</th>    <th>upper</th>  <th>reject</th>\n",
              "</tr>\n",
              "<tr>\n",
              "   <td>High</td>    <td>Low</td>  <td>-23.2031</td>  <td>0.001</td>  <td>-36.083</td> <td>-10.3233</td>  <td>True</td> \n",
              "</tr>\n",
              "<tr>\n",
              "   <td>High</td>  <td>Medium</td> <td>-14.9002</td> <td>0.3978</td> <td>-39.3909</td>  <td>9.5904</td>   <td>False</td>\n",
              "</tr>\n",
              "<tr>\n",
              "   <td>High</td>    <td>nan</td>   <td>-5.1485</td> <td>0.7714</td>  <td>-19.666</td>   <td>9.369</td>   <td>False</td>\n",
              "</tr>\n",
              "<tr>\n",
              "    <td>Low</td>  <td>Medium</td>  <td>8.3029</td>  <td>0.7683</td> <td>-14.9691</td>  <td>31.5749</td>  <td>False</td>\n",
              "</tr>\n",
              "<tr>\n",
              "    <td>Low</td>    <td>nan</td>   <td>18.0547</td> <td>0.0011</td>  <td>5.7035</td>   <td>30.4058</td>  <td>True</td> \n",
              "</tr>\n",
              "<tr>\n",
              "  <td>Medium</td>   <td>nan</td>   <td>9.7518</td>  <td>0.7019</td>  <td>-14.465</td>  <td>33.9685</td>  <td>False</td>\n",
              "</tr>\n",
              "</table>"
            ]
          },
          "metadata": {},
          "execution_count": 40
        }
      ]
    },
    {
      "cell_type": "code",
      "source": [
        "print('The p-value for high and low is:    0.001')\n",
        "print('The p-value for high and medium is: 0.3876')\n",
        "print('The p-value for low and medium is:  0.6644')"
      ],
      "metadata": {
        "colab": {
          "base_uri": "https://localhost:8080/"
        },
        "id": "jBMbNFpTC56n",
        "outputId": "52159ef0-bba3-4f6e-e2a9-8545191d75ba"
      },
      "execution_count": null,
      "outputs": [
        {
          "output_type": "stream",
          "name": "stdout",
          "text": [
            "The p-value for high and low is:    0.001\n",
            "The p-value for high and medium is: 0.3876\n",
            "The p-value for low and medium is:  0.6644\n"
          ]
        }
      ]
    },
    {
      "cell_type": "code",
      "source": [
        "# After looking at the different p-values for combination of low, medium and high, \n",
        "# I conclude that there is a significant difference in the means of high and low,\n",
        "# but no significant different between low and medium, and medium and high"
      ],
      "metadata": {
        "id": "ZKHlxKyHDQX4"
      },
      "execution_count": null,
      "outputs": []
    },
    {
      "cell_type": "code",
      "source": [
        "# Let's conduct a Kruskal-Wallis test\n",
        "\n",
        "stats.kruskal(Low['Avg Salary(K)'], Medium['Avg Salary(K)'], High['Avg Salary(K)'])"
      ],
      "metadata": {
        "colab": {
          "base_uri": "https://localhost:8080/"
        },
        "id": "p69rvc_pElJZ",
        "outputId": "c9122bab-679c-4a6f-e14d-249a27f5d8f6"
      },
      "execution_count": null,
      "outputs": [
        {
          "output_type": "execute_result",
          "data": {
            "text/plain": [
              "KruskalResult(statistic=16.297089591885072, pvalue=0.0002891558343591341)"
            ]
          },
          "metadata": {},
          "execution_count": 43
        }
      ]
    },
    {
      "cell_type": "code",
      "source": [
        "# The p-value for the Kruskal-Wallis test is < 0.05\n",
        "# therefore the means are not equal"
      ],
      "metadata": {
        "id": "Kv6S3MzGGFVt"
      },
      "execution_count": null,
      "outputs": []
    },
    {
      "cell_type": "markdown",
      "source": [
        "# **Does the company rating impact the salaries?**"
      ],
      "metadata": {
        "id": "FNkcxewQ_qIj"
      }
    },
    {
      "cell_type": "code",
      "source": [
        "data_ds.boxplot('Avg Salary(K)', by='Rating', figsize=(12, 6));"
      ],
      "metadata": {
        "colab": {
          "base_uri": "https://localhost:8080/"
        },
        "id": "Y2rZWlN7qH62",
        "outputId": "62c4fc45-d7c6-4f9d-b209-9c7ca6c33ba7"
      },
      "execution_count": null,
      "outputs": [
        {
          "output_type": "stream",
          "name": "stderr",
          "text": [
            "/usr/local/lib/python3.7/dist-packages/matplotlib/cbook/__init__.py:1376: VisibleDeprecationWarning: Creating an ndarray from ragged nested sequences (which is a list-or-tuple of lists-or-tuples-or ndarrays with different lengths or shapes) is deprecated. If you meant to do this, you must specify 'dtype=object' when creating the ndarray.\n",
            "  X = np.atleast_1d(X.T if isinstance(X, np.ndarray) else np.asarray(X))\n"
          ]
        },
        {
          "output_type": "display_data",
          "data": {
            "text/plain": [
              "<Figure size 864x432 with 1 Axes>"
            ],
            "image/png": "[encoded data removed]"
          },
          "metadata": {
            "needs_background": "light"
          }
        }
      ]
    },
    {
      "cell_type": "code",
      "source": [
        "# I am going to plot the 'Rating' of the company versus the Avg Salary(K)\n",
        "\n",
        "plt.figure(figsize=(8,4))\n",
        "plt.scatter(data_ds['Rating'], data_ds['Avg Salary(K)'], color='r')\n",
        "plt.title('Company Rating vs Average Salary(K)', fontweight='bold', fontsize=14)\n",
        "plt.xlabel('Company Rating', fontsize=14)\n",
        "plt.ylabel('Avg Salary (K)', fontsize=14)\n",
        "plt.grid(axis='x');"
      ],
      "metadata": {
        "colab": {
          "base_uri": "https://localhost:8080/"
        },
        "id": "tYgRqxB4I0jq",
        "outputId": "c94bde2a-4d7b-4db8-ac99-56fe892620c2"
      },
      "execution_count": null,
      "outputs": [
        {
          "output_type": "display_data",
          "data": {
            "text/plain": [
              "<Figure size 576x288 with 1 Axes>"
            ],
            "image/png": "[encoded data removed]"
          },
          "metadata": {
            "needs_background": "light"
          }
        }
      ]
    },
    {
      "cell_type": "code",
      "source": [
        "# The points with Company Rating = -1 are null\n",
        "# I do not see any correlation between the company rating and the average salary,\n",
        "# but let's look into it a little more"
      ],
      "metadata": {
        "id": "mBS2wrRKJquP"
      },
      "execution_count": null,
      "outputs": []
    },
    {
      "cell_type": "code",
      "source": [
        "def company_by_rating(rating):\n",
        "    if(np.isnan(rating)):\n",
        "        return 'unknown'\n",
        "    if(rating < 0):\n",
        "        return 'Null'\n",
        "    \n",
        "    elif(rating < 3):\n",
        "        return 'Low (0-3)'\n",
        "    \n",
        "    elif(rating < 4):\n",
        "        return 'Medium (3-4)'\n",
        "\n",
        "    else :\n",
        "        return 'High (4-5)'"
      ],
      "metadata": {
        "id": "HAyWMP_Ue2y4"
      },
      "execution_count": null,
      "outputs": []
    },
    {
      "cell_type": "code",
      "source": [
        "data_ds['co_rating'] = data_ds.Rating.apply(lambda x: company_by_rating(x))"
      ],
      "metadata": {
        "colab": {
          "base_uri": "https://localhost:8080/"
        },
        "id": "GAffxPPgfSD2",
        "outputId": "906c3693-e3ee-4f90-85cf-fa5e0617a17e"
      },
      "execution_count": null,
      "outputs": [
        {
          "output_type": "stream",
          "name": "stderr",
          "text": [
            "/usr/local/lib/python3.7/dist-packages/ipykernel_launcher.py:1: SettingWithCopyWarning: \n",
            "A value is trying to be set on a copy of a slice from a DataFrame.\n",
            "Try using .loc[row_indexer,col_indexer] = value instead\n",
            "\n",
            "See the caveats in the documentation: https://pandas.pydata.org/pandas-docs/stable/user_guide/indexing.html#returning-a-view-versus-a-copy\n",
            "  \"\"\"Entry point for launching an IPython kernel.\n"
          ]
        }
      ]
    },
    {
      "cell_type": "code",
      "source": [
        "data_ds_rating = data_ds.groupby('co_rating').mean().sort_values(by = 'Avg Salary(K)', ascending = False)\n",
        "data_ds_rating = data_ds_rating[data_ds_rating['Rating'] != -1]\n",
        "\n",
        "plt.barh(data_ds_rating.index[:10] , data_ds_rating['Avg Salary(K)'][:10], color='red', edgecolor='black')\n",
        "plt.title('Company Rating vs Average Salary(K)', fontsize=14, fontweight='bold')\n",
        "plt.xlabel('Average Salary(K)', fontsize=14);"
      ],
      "metadata": {
        "id": "mny_qvAyfxAU",
        "colab": {
          "base_uri": "https://localhost:8080/"
        },
        "outputId": "d4b6b142-eeaa-4ed7-b7a3-5a5a7d1f3e4d"
      },
      "execution_count": null,
      "outputs": [
        {
          "output_type": "display_data",
          "data": {
            "text/plain": [
              "<Figure size 432x288 with 1 Axes>"
            ],
            "image/png": "[encoded data removed]"
          },
          "metadata": {
            "needs_background": "light"
          }
        }
      ]
    },
    {
      "cell_type": "code",
      "source": [
        "# Let's perform some of the same tests as above to get some statistical data\n",
        "\n",
        "data_ds['Avg Salary(K)'].hist(by = data_ds['co_rating'], color='red');"
      ],
      "metadata": {
        "colab": {
          "base_uri": "https://localhost:8080/"
        },
        "id": "y-Tg6-TFGYOI",
        "outputId": "0d8b967d-8523-413d-f8c1-f2e1f8d524f5"
      },
      "execution_count": null,
      "outputs": [
        {
          "output_type": "display_data",
          "data": {
            "text/plain": [
              "<Figure size 432x288 with 4 Axes>"
            ],
            "image/png": "[encoded data removed]"
          },
          "metadata": {
            "needs_background": "light"
          }
        }
      ]
    },
    {
      "cell_type": "code",
      "source": [
        "# Let's try the F_oneway test\n",
        "\n",
        "LowRating = data_ds[data_ds['co_rating'] == 'Low (0-3)']\n",
        "MediumRating = data_ds[data_ds['co_rating'] == 'Medium (3-4)']\n",
        "HighRating = data_ds[data_ds['co_rating'] == 'High (4-5)']\n",
        "\n",
        "stats.f_oneway(LowRating['Avg Salary(K)'], MediumRating['Avg Salary(K)'], HighRating['Avg Salary(K)'])"
      ],
      "metadata": {
        "colab": {
          "base_uri": "https://localhost:8080/"
        },
        "id": "cjNQdYsuJ7DB",
        "outputId": "734a4a4b-6b67-437f-a944-7682e01c7153"
      },
      "execution_count": null,
      "outputs": [
        {
          "output_type": "execute_result",
          "data": {
            "text/plain": [
              "F_onewayResult(statistic=0.6934104706834241, pvalue=0.5006109046434297)"
            ]
          },
          "metadata": {},
          "execution_count": 52
        }
      ]
    },
    {
      "cell_type": "code",
      "source": [
        "# the p-value from the F_oneway test is > 0.05 therefore there is a\n",
        "# direct correlation between rating and salary."
      ],
      "metadata": {
        "id": "AWs3A08NLJEg"
      },
      "execution_count": null,
      "outputs": []
    },
    {
      "cell_type": "code",
      "source": [
        "# let's check ttest values for each pair\n",
        "\n",
        "print(stats.ttest_ind(LowRating['Avg Salary(K)'], MediumRating['Avg Salary(K)']))\n",
        "print(stats.ttest_ind(LowRating['Avg Salary(K)'], HighRating['Avg Salary(K)']))\n",
        "print(stats.ttest_ind(MediumRating['Avg Salary(K)'], HighRating['Avg Salary(K)']))"
      ],
      "metadata": {
        "colab": {
          "base_uri": "https://localhost:8080/"
        },
        "id": "ZBSKYvRhLRRy",
        "outputId": "d4ac816d-7599-4406-e33c-29fd7e27c04d"
      },
      "execution_count": null,
      "outputs": [
        {
          "output_type": "stream",
          "name": "stdout",
          "text": [
            "Ttest_indResult(statistic=0.12532687358485536, pvalue=0.9003802752741786)\n",
            "Ttest_indResult(statistic=-0.36315768154174716, pvalue=0.7171480285639618)\n",
            "Ttest_indResult(statistic=-1.1632752805703068, pvalue=0.24560672404265116)\n"
          ]
        }
      ]
    },
    {
      "cell_type": "code",
      "source": [
        "# let's run the Tukey's HSD test\n",
        "data_ds['co_rating'] = data_ds['co_rating'].astype(str)\n",
        "tukey = pairwise_tukeyhsd(endog = data_ds['Avg Salary(K)'], groups = data_ds['co_rating'], alpha=0.05)\n",
        "\n",
        "tukey.summary()"
      ],
      "metadata": {
        "colab": {
          "base_uri": "https://localhost:8080/"
        },
        "id": "kKFnH2TPMgk5",
        "outputId": "a5e65b55-f752-4d39-9edd-1649f5d4bacb"
      },
      "execution_count": null,
      "outputs": [
        {
          "output_type": "stream",
          "name": "stderr",
          "text": [
            "/usr/local/lib/python3.7/dist-packages/ipykernel_launcher.py:2: SettingWithCopyWarning: \n",
            "A value is trying to be set on a copy of a slice from a DataFrame.\n",
            "Try using .loc[row_indexer,col_indexer] = value instead\n",
            "\n",
            "See the caveats in the documentation: https://pandas.pydata.org/pandas-docs/stable/user_guide/indexing.html#returning-a-view-versus-a-copy\n",
            "  \n"
          ]
        },
        {
          "output_type": "execute_result",
          "data": {
            "text/plain": [
              "<class 'statsmodels.iolib.table.SimpleTable'>"
            ],
            "text/html": [
              "<table class=\"simpletable\">\n",
              "<caption>Multiple Comparison of Means - Tukey HSD, FWER=0.05</caption>\n",
              "<tr>\n",
              "     <th>group1</th>       <th>group2</th>    <th>meandiff</th>  <th>p-adj</th>   <th>lower</th>    <th>upper</th>  <th>reject</th>\n",
              "</tr>\n",
              "<tr>\n",
              "   <td>High (4-5)</td>    <td>Low (0-3)</td>   <td>-3.6627</td>   <td>0.9</td>  <td>-31.9697</td>  <td>24.6443</td>  <td>False</td>\n",
              "</tr>\n",
              "<tr>\n",
              "   <td>High (4-5)</td>  <td>Medium (3-4)</td>  <td>-5.0185</td> <td>0.6298</td> <td>-16.1097</td>  <td>6.0726</td>   <td>False</td>\n",
              "</tr>\n",
              "<tr>\n",
              "   <td>High (4-5)</td>      <td>Null</td>      <td>68.0456</td> <td>0.0074</td>  <td>13.6334</td> <td>122.4578</td>  <td>True</td> \n",
              "</tr>\n",
              "<tr>\n",
              "    <td>Low (0-3)</td>  <td>Medium (3-4)</td>  <td>-1.3558</td>   <td>0.9</td>  <td>-28.9479</td>  <td>26.2364</td>  <td>False</td>\n",
              "</tr>\n",
              "<tr>\n",
              "    <td>Low (0-3)</td>      <td>Null</td>      <td>71.7083</td> <td>0.0117</td>  <td>11.7167</td>   <td>131.7</td>   <td>True</td> \n",
              "</tr>\n",
              "<tr>\n",
              "  <td>Medium (3-4)</td>     <td>Null</td>      <td>73.0641</td> <td>0.0031</td>  <td>19.0204</td> <td>127.1078</td>  <td>True</td> \n",
              "</tr>\n",
              "</table>"
            ]
          },
          "metadata": {},
          "execution_count": 55
        }
      ]
    },
    {
      "cell_type": "code",
      "source": [
        "print('The p-value for high and low rating is:    0.9')\n",
        "print('The p-value for high and medium rating is: 0.6298')\n",
        "print('The p-value for low and medium rating is:  0.9')"
      ],
      "metadata": {
        "colab": {
          "base_uri": "https://localhost:8080/"
        },
        "id": "YmIkn8O4MpgV",
        "outputId": "9862c521-b4be-491d-d38f-3ad5e491da0b"
      },
      "execution_count": null,
      "outputs": [
        {
          "output_type": "stream",
          "name": "stdout",
          "text": [
            "The p-value for high and low rating is:    0.9\n",
            "The p-value for high and medium rating is: 0.6298\n",
            "The p-value for low and medium rating is:  0.9\n"
          ]
        }
      ]
    },
    {
      "cell_type": "code",
      "source": [
        "# After looking at the different p-values for combination of low, medium and high, \n",
        "# I conclude that there is not a significant difference in any combination and that\n",
        "# there is a direct correlation between rating and salary"
      ],
      "metadata": {
        "id": "E2PfL6igM-wo"
      },
      "execution_count": null,
      "outputs": []
    },
    {
      "cell_type": "code",
      "source": [
        "# Let's conduct a Kruskal-Wallis test\n",
        "\n",
        "stats.kruskal(LowRating['Avg Salary(K)'], MediumRating['Avg Salary(K)'], HighRating['Avg Salary(K)'])"
      ],
      "metadata": {
        "colab": {
          "base_uri": "https://localhost:8080/"
        },
        "id": "FdJXYRPpNGUm",
        "outputId": "bbecb655-96fa-4fe1-c826-6d59e7817f24"
      },
      "execution_count": null,
      "outputs": [
        {
          "output_type": "execute_result",
          "data": {
            "text/plain": [
              "KruskalResult(statistic=2.503927388239068, pvalue=0.28594274110877627)"
            ]
          },
          "metadata": {},
          "execution_count": 58
        }
      ]
    },
    {
      "cell_type": "code",
      "source": [
        "# The p-value for the Kruskal-Wallis test is > 0.05\n",
        "# therefore the medians are equal"
      ],
      "metadata": {
        "id": "kBYo7_CuNTBX"
      },
      "execution_count": null,
      "outputs": []
    },
    {
      "cell_type": "code",
      "source": [
        "# Let's check the confidence interval for all 3 grouped ratings against eachother"
      ],
      "metadata": {
        "id": "RCLg7c1mTZxU"
      },
      "execution_count": null,
      "outputs": []
    },
    {
      "cell_type": "code",
      "source": [
        "def get_95_ci(array_1, array_2):\n",
        "    sample_1_n = array_1.shape[0]\n",
        "    sample_2_n = array_2.shape[0]\n",
        "    sample_1_mean = array_1.mean()\n",
        "    sample_2_mean = array_2.mean()\n",
        "    sample_1_var = array_1.var()\n",
        "    sample_2_var = array_2.var()\n",
        "    mean_difference = sample_2_mean - sample_1_mean\n",
        "    std_err_difference = math.sqrt((sample_1_var/sample_1_n)+(sample_2_var/sample_2_n))\n",
        "    margin_of_error = 1.96 * std_err_difference\n",
        "    ci_lower = mean_difference - margin_of_error\n",
        "    ci_upper = mean_difference + margin_of_error\n",
        "    return(\"The difference in means at the 95% confidence interval (two-tail) is between \"+str(ci_lower)+\" and \"+str(ci_upper)+\".\")\n",
        "\n",
        "print('Low vs Medium:  ', get_95_ci(LowRating['Avg Salary(K)'], MediumRating['Avg Salary(K)']))\n",
        "print('Medium vs Low:  ', get_95_ci(MediumRating['Avg Salary(K)'], LowRating['Avg Salary(K)']))\n",
        "print()\n",
        "print('Low vs High:    ', get_95_ci(LowRating['Avg Salary(K)'], HighRating['Avg Salary(K)']))\n",
        "print('High vs Low:    ', get_95_ci(HighRating['Avg Salary(K)'], LowRating['Avg Salary(K)']))\n",
        "print()\n",
        "print('Medium vs High: ', get_95_ci(MediumRating['Avg Salary(K)'], HighRating['Avg Salary(K)']))\n",
        "print('High vs Medium: ', get_95_ci(HighRating['Avg Salary(K)'], MediumRating['Avg Salary(K)']))"
      ],
      "metadata": {
        "colab": {
          "base_uri": "https://localhost:8080/"
        },
        "id": "XOSUNwWYTge7",
        "outputId": "56064b69-59fb-4e5f-a534-82d12f841b04"
      },
      "execution_count": null,
      "outputs": [
        {
          "output_type": "stream",
          "name": "stdout",
          "text": [
            "Low vs Medium:   The difference in means at the 95% confidence interval (two-tail) is between -13.806683880618552 and 11.095145419080099.\n",
            "Medium vs Low:   The difference in means at the 95% confidence interval (two-tail) is between -11.095145419080099 and 13.806683880618552.\n",
            "\n",
            "Low vs High:     The difference in means at the 95% confidence interval (two-tail) is between -9.450779072953118 and 16.776250771066323.\n",
            "High vs Low:     The difference in means at the 95% confidence interval (two-tail) is between -16.776250771066323 and 9.450779072953118.\n",
            "\n",
            "Medium vs High:  The difference in means at the 95% confidence interval (two-tail) is between -3.2152257555870225 and 13.25223591523868.\n",
            "High vs Medium:  The difference in means at the 95% confidence interval (two-tail) is between -13.25223591523868 and 3.2152257555870225.\n"
          ]
        }
      ]
    },
    {
      "cell_type": "markdown",
      "source": [
        "# **What locations require the most data scientists?**"
      ],
      "metadata": {
        "id": "8fHMAwUpCeKM"
      }
    },
    {
      "cell_type": "code",
      "source": [
        "# This chart is for the location that the company is in (city, state)\n",
        "\n",
        "plt.barh(data_ds['Location'].value_counts().index[:12] ,data_ds['Location'].value_counts().values[:12], color=('r','g','b','y','y','purple','g','lightgreen','g','lightblue','orange','g'), edgecolor='black')\n",
        "plt.title('Locations of Companies With Data Scientists')\n",
        "plt.xlabel('Number of Companies');\n",
        "\n",
        "# I have color coded the locations by state"
      ],
      "metadata": {
        "colab": {
          "base_uri": "https://localhost:8080/",
          "height": 295
        },
        "id": "IErO9VmE3xQ-",
        "outputId": "824ce7dd-907b-45c0-fa95-699dd66b85e7"
      },
      "execution_count": null,
      "outputs": [
        {
          "output_type": "display_data",
          "data": {
            "text/plain": [
              "<Figure size 432x288 with 1 Axes>"
            ],
            "image/png": "[encoded data removed]"
          },
          "metadata": {
            "needs_background": "light"
          }
        }
      ]
    },
    {
      "cell_type": "code",
      "source": [
        "# This chart is for the location that the company is headquartered in (city, state)\n",
        "\n",
        "plt.barh(data_ds['Headquarters'].value_counts().index[:12] ,data_ds['Headquarters'].value_counts().values[:12], color=('r','g','b','purple','y','y','lightblue','g','g','lightgreen','g','y'), edgecolor='black')\n",
        "plt.title('Locations of Company Headquarters With Data Scientists')\n",
        "plt.xlabel('Number of Companies');\n",
        "\n",
        "# I have color coded the headquarter locations by state"
      ],
      "metadata": {
        "colab": {
          "base_uri": "https://localhost:8080/",
          "height": 295
        },
        "id": "NaBdeqbI50Ks",
        "outputId": "2e5d0530-9d31-4a3f-c4d4-98dc7ed92eeb"
      },
      "execution_count": null,
      "outputs": [
        {
          "output_type": "display_data",
          "data": {
            "text/plain": [
              "<Figure size 432x288 with 1 Axes>"
            ],
            "image/png": "[encoded data removed]"
          },
          "metadata": {
            "needs_background": "light"
          }
        }
      ]
    },
    {
      "cell_type": "code",
      "source": [
        "# This chart is for the state that the job is located in\n",
        "\n",
        "plt.barh(data_ds['Job Location'].value_counts().index[:15] ,data_ds['Job Location'].value_counts().values[:15], color=('r','b','b','b','b','b','b','b','b','b','b','b','b','b','b'), edgecolor='black')\n",
        "plt.title('Locations of Companies With Data Scientists', fontsize=14, fontweight='bold')\n",
        "plt.xlabel('Number of Companies', fontsize=14)\n",
        "plt.grid(axis='y');"
      ],
      "metadata": {
        "colab": {
          "base_uri": "https://localhost:8080/",
          "height": 300
        },
        "id": "HqwHkBXr5FxO",
        "outputId": "f14ebf06-5bf0-452b-a7f2-0b1100f91edb"
      },
      "execution_count": null,
      "outputs": [
        {
          "output_type": "display_data",
          "data": {
            "text/plain": [
              "<Figure size 432x288 with 1 Axes>"
            ],
            "image/png": "[encoded data removed]"
          },
          "metadata": {
            "needs_background": "light"
          }
        }
      ]
    },
    {
      "cell_type": "code",
      "source": [
        "# It's very obvious that California (CA) has the most companies with data scientists\n",
        "# Let's take a look at grouping some states together\n",
        "\n",
        "print('Job Locations:\\n', data_ds['Job Location'].value_counts())"
      ],
      "metadata": {
        "id": "9MutZX_3NXrL",
        "colab": {
          "base_uri": "https://localhost:8080/"
        },
        "outputId": "f0a2428b-13ce-4a90-db06-b5469fb3189a"
      },
      "execution_count": null,
      "outputs": [
        {
          "output_type": "stream",
          "name": "stdout",
          "text": [
            "Job Locations:\n",
            " CA    81\n",
            "MA    40\n",
            "NY    40\n",
            "VA    23\n",
            "IL    21\n",
            "WA    17\n",
            "MD    13\n",
            "TX    13\n",
            "PA    11\n",
            "NJ     8\n",
            "FL     7\n",
            "OH     7\n",
            "MI     6\n",
            "DC     5\n",
            "MO     4\n",
            "NC     3\n",
            "IN     3\n",
            "UT     3\n",
            "AZ     3\n",
            "WI     3\n",
            "NM     3\n",
            "GA     3\n",
            "OR     3\n",
            "CO     3\n",
            "CT     2\n",
            "KY     2\n",
            "AL     1\n",
            "TN     1\n",
            "Name: Job Location, dtype: int64\n"
          ]
        }
      ]
    },
    {
      "cell_type": "code",
      "source": [
        "def company_by_region(location):\n",
        "\n",
        "    if(location == 'CA' or location == 'WA' or location == 'OR' or location == 'AZ'):\n",
        "        return 'West'\n",
        "    \n",
        "    elif(location == 'NY' or location == 'MA' or location == 'DC' or location == 'PA' or location == 'MD' or location == 'NJ' or location == 'CT' or location == 'VA'):\n",
        "        return 'NorthEast'\n",
        "    \n",
        "    elif(location == 'FL' or location == 'TX' or location == 'GA' or location == 'AL' or location == 'KY' or location == 'TN' or location == 'NC'):\n",
        "        return 'South'\n",
        "\n",
        "    elif(location == 'CO' or location == 'UT' or location == 'NM' or location == 'OH' or location == 'MI'):\n",
        "        return 'MidWest'\n",
        "\n",
        "    elif(location == 'MO' or location == 'IN' or location == 'MI' or location == 'OH' or location == 'IL' or location == 'WI'):\n",
        "        return 'Central'\n",
        "\n",
        "    else :\n",
        "        return 'Other'"
      ],
      "metadata": {
        "id": "UBxvFlxANq7W"
      },
      "execution_count": null,
      "outputs": []
    },
    {
      "cell_type": "code",
      "source": [
        "data_ds['co_region'] = data_ds['Job Location'].apply(lambda x: company_by_region(x))\n",
        "\n",
        "data_ds_region = data_ds.groupby('co_region').mean().sort_values(by = 'Avg Salary(K)', ascending = False)\n",
        "\n",
        "plt.barh(data_ds_region.index[:10] , data_ds_region['Avg Salary(K)'][:10], color='teal', edgecolor='black')\n",
        "plt.title('Company Region vs Average Salary(K)', fontsize=14, fontweight='bold')\n",
        "plt.xlabel('Average Salary(K)', fontsize=14);\n",
        "\n",
        "print(data_ds['co_region'].value_counts())"
      ],
      "metadata": {
        "colab": {
          "base_uri": "https://localhost:8080/",
          "height": 508
        },
        "id": "1R-mZXOIJJ15",
        "outputId": "3817f731-98f9-49e2-84df-7218e9eae972"
      },
      "execution_count": null,
      "outputs": [
        {
          "output_type": "stream",
          "name": "stdout",
          "text": [
            "NorthEast    142\n",
            "West         104\n",
            "Central       31\n",
            "South         30\n",
            "MidWest       22\n",
            "Name: co_region, dtype: int64\n"
          ]
        },
        {
          "output_type": "stream",
          "name": "stderr",
          "text": [
            "/usr/local/lib/python3.7/dist-packages/ipykernel_launcher.py:1: SettingWithCopyWarning: \n",
            "A value is trying to be set on a copy of a slice from a DataFrame.\n",
            "Try using .loc[row_indexer,col_indexer] = value instead\n",
            "\n",
            "See the caveats in the documentation: https://pandas.pydata.org/pandas-docs/stable/user_guide/indexing.html#returning-a-view-versus-a-copy\n",
            "  \"\"\"Entry point for launching an IPython kernel.\n"
          ]
        },
        {
          "output_type": "display_data",
          "data": {
            "text/plain": [
              "<Figure size 432x288 with 1 Axes>"
            ],
            "image/png": "[encoded data removed]"
          },
          "metadata": {
            "needs_background": "light"
          }
        }
      ]
    },
    {
      "cell_type": "code",
      "source": [
        "data_ds['Avg Salary(K)'].hist(by = data_ds['co_region'], figsize=(8,8), color='teal', bins=10);"
      ],
      "metadata": {
        "colab": {
          "base_uri": "https://localhost:8080/",
          "height": 505
        },
        "id": "dPk8OiWWeT6q",
        "outputId": "0fcefd03-f77c-422f-8940-b3a80bf456c8"
      },
      "execution_count": null,
      "outputs": [
        {
          "output_type": "display_data",
          "data": {
            "text/plain": [
              "<Figure size 576x576 with 6 Axes>"
            ],
            "image/png": "[encoded data removed]"
          },
          "metadata": {
            "needs_background": "light"
          }
        }
      ]
    },
    {
      "cell_type": "code",
      "source": [
        "# Let's try the F_oneway test\n",
        "\n",
        "Central = data_ds[data_ds['co_region'] == 'Central']\n",
        "West = data_ds[data_ds['co_region'] == 'West']\n",
        "South = data_ds[data_ds['co_region'] == 'South']\n",
        "NorthEast = data_ds[data_ds['co_region'] == 'NorthEast']\n",
        "MidWest = data_ds[data_ds['co_region'] == 'MidWest']\n",
        "\n",
        "stats.f_oneway(Central['Avg Salary(K)'], West['Avg Salary(K)'], South['Avg Salary(K)'], NorthEast['Avg Salary(K)'], MidWest['Avg Salary(K)'])"
      ],
      "metadata": {
        "colab": {
          "base_uri": "https://localhost:8080/"
        },
        "id": "MFrsXIKbhILN",
        "outputId": "80bcc496-0863-4744-a121-f4283d63a470"
      },
      "execution_count": null,
      "outputs": [
        {
          "output_type": "execute_result",
          "data": {
            "text/plain": [
              "F_onewayResult(statistic=7.968495284041268, pvalue=3.8806239954363995e-06)"
            ]
          },
          "metadata": {},
          "execution_count": 69
        }
      ]
    },
    {
      "cell_type": "code",
      "source": [
        "# the p-value is < 0.05 so the the results are significant"
      ],
      "metadata": {
        "id": "4IVn8qL9h4td"
      },
      "execution_count": null,
      "outputs": []
    },
    {
      "cell_type": "markdown",
      "source": [
        "# **Does the location of the company impact salaries?**"
      ],
      "metadata": {
        "id": "AjX92ibFEpvP"
      }
    },
    {
      "cell_type": "code",
      "source": [
        "# I am going to plot the job location versus the average salary\n",
        "\n",
        "data_ds_job_location = data_ds['Job Location'].sort_values()\n",
        "\n",
        "plt.figure(figsize=(10,6))\n",
        "plt.scatter(data_ds_job_location, data_ds['Avg Salary(K)'], color='purple')\n",
        "plt.title('Average Salary(K) for Job Locations by State', fontweight='bold', fontsize=14)\n",
        "plt.xlabel('Job Location', fontsize=14)\n",
        "plt.ylabel('Avegage Salary (K)', fontsize=14)\n",
        "plt.grid(axis='x');"
      ],
      "metadata": {
        "colab": {
          "base_uri": "https://localhost:8080/"
        },
        "id": "QZUBKzhW5C1D",
        "outputId": "b16fc9f7-f551-41a3-e9f6-a6933cc97e5e"
      },
      "execution_count": null,
      "outputs": [
        {
          "output_type": "display_data",
          "data": {
            "text/plain": [
              "<Figure size 720x432 with 1 Axes>"
            ],
            "image/png": "[encoded data removed]"
          },
          "metadata": {
            "needs_background": "light"
          }
        }
      ]
    },
    {
      "cell_type": "code",
      "source": [
        "# California (CA), Massachusetts (MA) and New York (NY) have the most locations for data scientists,\n",
        "# but I don't see any specific correlation with 'Job Location' vs 'Avg Salary(K)"
      ],
      "metadata": {
        "id": "BoXS_5RSE4Td"
      },
      "execution_count": null,
      "outputs": []
    },
    {
      "cell_type": "code",
      "source": [
        "data_ds_avg = data_ds['Avg Salary(K)'].mean()\n",
        "data_ca = data_ds.loc[data_ds['Job Location'] == 'CA'].mean().round(2)\n",
        "data_ny = data_ds.loc[data_ds['Job Location'] == 'NY'].mean().round(2)\n",
        "data_ma = data_ds.loc[data_ds['Job Location'] == 'MA'].mean().round(2)\n",
        "data_va = data_ds.loc[data_ds['Job Location'] == 'VA'].mean().round(2)\n",
        "\n",
        "print('The average salary for data scientists is : ', data_ds_avg)\n",
        "print('The average salary in California is:        ', data_ca['Avg Salary(K)'])\n",
        "print('The average salary in New York is:          ', data_ny['Avg Salary(K)'])\n",
        "print('The average salary in Massachusetts is:     ', data_ma['Avg Salary(K)'])\n",
        "print('The average salary in Virginia      is:     ', data_va['Avg Salary(K)'])\n",
        "print()"
      ],
      "metadata": {
        "colab": {
          "base_uri": "https://localhost:8080/"
        },
        "id": "EY3y7198g59Y",
        "outputId": "88895ed2-5007-4f6d-be9a-574d68284277"
      },
      "execution_count": null,
      "outputs": [
        {
          "output_type": "stream",
          "name": "stdout",
          "text": [
            "The average salary for data scientists is :  116.10182370820668\n",
            "The average salary in California is:         134.3\n",
            "The average salary in New York is:           115.25\n",
            "The average salary in Massachusetts is:      104.08\n",
            "The average salary in Virginia      is:      102.09\n",
            "\n"
          ]
        },
        {
          "output_type": "stream",
          "name": "stderr",
          "text": [
            "/usr/local/lib/python3.7/dist-packages/ipykernel_launcher.py:2: FutureWarning: Dropping of nuisance columns in DataFrame reductions (with 'numeric_only=None') is deprecated; in a future version this will raise TypeError.  Select only valid columns before calling the reduction.\n",
            "  \n",
            "/usr/local/lib/python3.7/dist-packages/ipykernel_launcher.py:3: FutureWarning: Dropping of nuisance columns in DataFrame reductions (with 'numeric_only=None') is deprecated; in a future version this will raise TypeError.  Select only valid columns before calling the reduction.\n",
            "  This is separate from the ipykernel package so we can avoid doing imports until\n",
            "/usr/local/lib/python3.7/dist-packages/ipykernel_launcher.py:4: FutureWarning: Dropping of nuisance columns in DataFrame reductions (with 'numeric_only=None') is deprecated; in a future version this will raise TypeError.  Select only valid columns before calling the reduction.\n",
            "  after removing the cwd from sys.path.\n",
            "/usr/local/lib/python3.7/dist-packages/ipykernel_launcher.py:5: FutureWarning: Dropping of nuisance columns in DataFrame reductions (with 'numeric_only=None') is deprecated; in a future version this will raise TypeError.  Select only valid columns before calling the reduction.\n",
            "  \"\"\"\n"
          ]
        }
      ]
    },
    {
      "cell_type": "code",
      "source": [
        "# lets perform some tests to see what happens\n",
        "\n",
        "cali = data_ds[data_ds['Job Location'] == 'CA']\n",
        "n_y = data_ds[data_ds['Job Location'] == 'NY']\n",
        "mass = data_ds[data_ds['Job Location'] == 'MA']\n",
        "virg = data_ds[data_ds['Job Location'] == 'VA']\n",
        "\n",
        "plt.hist(cali['Avg Salary(K)'], alpha = .5, color='lightblue')\n",
        "plt.hist(n_y['Avg Salary(K)'], alpha = .5, color='pink')\n",
        "plt.hist(mass['Avg Salary(K)'], alpha = .5, color='lightgreen')\n",
        "plt.hist(virg['Avg Salary(K)'], alpha = .5, color='yellow')\n",
        "plt.title('Average Salary(K) vs Number of Companies', fontsize=14, fontweight='bold')\n",
        "plt.xlabel('Average Salary(K)', fontsize=14)\n",
        "plt.ylabel('Number of Companies', fontsize=14)\n",
        "plt.legend(('Cali', 'NY', 'Mass', 'Virg'), loc='upper-right');\n",
        "plt.show()\n",
        "\n",
        "print('Cali:     ', stats.describe(cali['Avg Salary(K)']))\n",
        "print('New York: ', stats.describe(n_y['Avg Salary(K)']))\n",
        "print('Mass:     ', stats.describe(mass['Avg Salary(K)']))\n",
        "print('Virginia: ', stats.describe(virg['Avg Salary(K)']))"
      ],
      "metadata": {
        "colab": {
          "base_uri": "https://localhost:8080/"
        },
        "id": "H23PiKy5dxKB",
        "outputId": "47c83948-726a-44b3-8afb-73a25785d727"
      },
      "execution_count": null,
      "outputs": [
        {
          "output_type": "stream",
          "name": "stderr",
          "text": [
            "/usr/local/lib/python3.7/dist-packages/ipykernel_launcher.py:15: MatplotlibDeprecationWarning: Unrecognized location 'upper-right'. Falling back on 'best'; valid locations are\n",
            "\tbest\n",
            "\tupper right\n",
            "\tupper left\n",
            "\tlower left\n",
            "\tlower right\n",
            "\tright\n",
            "\tcenter left\n",
            "\tcenter right\n",
            "\tlower center\n",
            "\tupper center\n",
            "\tcenter\n",
            "This will raise an exception in 3.3.\n",
            "  from ipykernel import kernelapp as app\n"
          ]
        },
        {
          "output_type": "display_data",
          "data": {
            "text/plain": [
              "<Figure size 432x288 with 1 Axes>"
            ],
            "image/png": "[encoded data removed]"
          },
          "metadata": {
            "needs_background": "light"
          }
        },
        {
          "output_type": "stream",
          "name": "stdout",
          "text": [
            "Cali:      DescribeResult(nobs=81, minmax=(61.5, 225.0), mean=134.2962962962963, variance=1499.423611111111, skewness=-0.11526535480081798, kurtosis=-0.14449940551542717)\n",
            "New York:  DescribeResult(nobs=40, minmax=(15.5, 172.0), mean=115.25, variance=1066.4358974358975, skewness=-0.48062852974451353, kurtosis=0.5242437748618194)\n",
            "Mass:      DescribeResult(nobs=40, minmax=(53.0, 164.0), mean=104.075, variance=863.4429487179488, skewness=0.030051922536149144, kurtosis=-0.6314783463883926)\n",
            "Virginia:  DescribeResult(nobs=23, minmax=(77.5, 147.0), mean=102.08695652173913, variance=511.401185770751, skewness=0.8436539905444018, kurtosis=-0.4449528075971534)\n"
          ]
        }
      ]
    },
    {
      "cell_type": "code",
      "source": [
        "data_ds.boxplot('Avg Salary(K)', by='Job Location', figsize=(12, 6));"
      ],
      "metadata": {
        "colab": {
          "base_uri": "https://localhost:8080/"
        },
        "id": "fr8CM3KJnyb_",
        "outputId": "0a960022-b5ef-4c57-819d-2ce1f6de31ae"
      },
      "execution_count": null,
      "outputs": [
        {
          "output_type": "stream",
          "name": "stderr",
          "text": [
            "/usr/local/lib/python3.7/dist-packages/matplotlib/cbook/__init__.py:1376: VisibleDeprecationWarning: Creating an ndarray from ragged nested sequences (which is a list-or-tuple of lists-or-tuples-or ndarrays with different lengths or shapes) is deprecated. If you meant to do this, you must specify 'dtype=object' when creating the ndarray.\n",
            "  X = np.atleast_1d(X.T if isinstance(X, np.ndarray) else np.asarray(X))\n"
          ]
        },
        {
          "output_type": "display_data",
          "data": {
            "text/plain": [
              "<Figure size 864x432 with 1 Axes>"
            ],
            "image/png": "[encoded data removed]"
          },
          "metadata": {
            "needs_background": "light"
          }
        }
      ]
    },
    {
      "cell_type": "code",
      "source": [
        "# I am going to run tests on the 4 most popular states for data scientists\n",
        "# Shapiro-Wilk test\n",
        "\n",
        "print('Shapiro - Cali:     ', stats.shapiro(cali['Avg Salary(K)']))\n",
        "print('Shapiro - New York: ', stats.shapiro(n_y['Avg Salary(K)']))\n",
        "print('Shapiro - Mass:     ', stats.shapiro(mass['Avg Salary(K)']))\n",
        "print('Shapiro - Virg:     ', stats.shapiro(virg['Avg Salary(K)']))\n",
        "\n",
        "# the W-values are all close to 1, which is great, \n",
        "# but the p-values are not all above 0.05"
      ],
      "metadata": {
        "colab": {
          "base_uri": "https://localhost:8080/"
        },
        "id": "Pa13HEagfv_1",
        "outputId": "d1de4328-a9f3-438f-c677-86627a5e975c"
      },
      "execution_count": null,
      "outputs": [
        {
          "output_type": "stream",
          "name": "stdout",
          "text": [
            "Shapiro - Cali:      (0.9601702690124512, 0.012955140322446823)\n",
            "Shapiro - New York:  (0.9598338007926941, 0.1653202325105667)\n",
            "Shapiro - Mass:      (0.9457674622535706, 0.05428072437644005)\n",
            "Shapiro - Virg:      (0.862151563167572, 0.004554862156510353)\n"
          ]
        }
      ]
    },
    {
      "cell_type": "code",
      "source": [
        "# ANOVA - F_oneway\n",
        "\n",
        "stats.f_oneway(cali['Avg Salary(K)'], n_y['Avg Salary(K)'], mass['Avg Salary(K)'], virg['Avg Salary(K)'])\n",
        "\n",
        "# p-value is too low "
      ],
      "metadata": {
        "colab": {
          "base_uri": "https://localhost:8080/"
        },
        "id": "36mEQrULjpZM",
        "outputId": "ad07df6f-e4c2-48f4-f0b9-f386572caaae"
      },
      "execution_count": null,
      "outputs": [
        {
          "output_type": "execute_result",
          "data": {
            "text/plain": [
              "F_onewayResult(statistic=10.155379700327558, pvalue=3.2605676410250256e-06)"
            ]
          },
          "metadata": {},
          "execution_count": 77
        }
      ]
    },
    {
      "cell_type": "code",
      "source": [
        "# Kruskal-Wallis test\n",
        "\n",
        "stats.kruskal(cali['Avg Salary(K)'], n_y['Avg Salary(K)'], mass['Avg Salary(K)'], virg['Avg Salary(K)'])\n",
        "\n",
        "# p-value is too low"
      ],
      "metadata": {
        "colab": {
          "base_uri": "https://localhost:8080/"
        },
        "id": "avaQr3ijtsgx",
        "outputId": "a9a219ed-02c6-43b3-8b2c-927b1fdeeb5c"
      },
      "execution_count": null,
      "outputs": [
        {
          "output_type": "execute_result",
          "data": {
            "text/plain": [
              "KruskalResult(statistic=28.925048101417417, pvalue=2.32212840022196e-06)"
            ]
          },
          "metadata": {},
          "execution_count": 78
        }
      ]
    },
    {
      "cell_type": "code",
      "source": [
        "# t-test\n",
        "\n",
        "stats.ttest_ind(data_ds['Avg Salary(K)'], data['Avg Salary(K)'])\n",
        "\n",
        "# the test statistic is > 1.96 so reject"
      ],
      "metadata": {
        "colab": {
          "base_uri": "https://localhost:8080/"
        },
        "id": "bnAyEe08wR17",
        "outputId": "1931646d-f37d-407d-c95d-0fde5e2f90ee"
      },
      "execution_count": null,
      "outputs": [
        {
          "output_type": "execute_result",
          "data": {
            "text/plain": [
              "Ttest_indResult(statistic=4.3238875725028185, pvalue=1.7011116867468604e-05)"
            ]
          },
          "metadata": {},
          "execution_count": 79
        }
      ]
    },
    {
      "cell_type": "markdown",
      "source": [
        "# **Does the age of the company impact salaries?**"
      ],
      "metadata": {
        "id": "rqT6PNpiPa5Q"
      }
    },
    {
      "cell_type": "code",
      "source": [
        "plt.figure(figsize=(8,5))\n",
        "plt.scatter(data_ds['Age'], data_ds['Avg Salary(K)'], color='pink')\n",
        "plt.title('Company Age vs Average Salary(K)', fontweight='bold', fontsize=14)\n",
        "plt.xlabel('Company Age', fontsize=14)\n",
        "plt.ylabel('Avegage Salary (K)', fontsize=14)\n",
        "plt.grid(axis='x');"
      ],
      "metadata": {
        "colab": {
          "base_uri": "https://localhost:8080/"
        },
        "id": "3oLddPFkPcD0",
        "outputId": "cb0dbf5c-6acb-4524-b9a5-21aa3b3bc9f7"
      },
      "execution_count": null,
      "outputs": [
        {
          "output_type": "display_data",
          "data": {
            "text/plain": [
              "<Figure size 576x360 with 1 Axes>"
            ],
            "image/png": "[encoded data removed]"
          },
          "metadata": {
            "needs_background": "light"
          }
        }
      ]
    },
    {
      "cell_type": "code",
      "source": [
        "# I do not see any direct correlation between the 'Age' of the company and 'Avg Salary(K)'\n",
        "# Lets perform some tests since the values of both 'Avg Salary(K)' and 'Age' are both numerical"
      ],
      "metadata": {
        "id": "RVDCA0qmRZhb"
      },
      "execution_count": null,
      "outputs": []
    },
    {
      "cell_type": "code",
      "source": [
        "# Removing the Age = -1\n",
        "data_ds_age = data_ds[data.Age != -1]\n",
        "data_ds_age.head(2)"
      ],
      "metadata": {
        "colab": {
          "base_uri": "https://localhost:8080/"
        },
        "id": "y1s_ikNpUYNh",
        "outputId": "f8d3d38f-91d6-45bc-a0ec-731871228016"
      },
      "execution_count": null,
      "outputs": [
        {
          "output_type": "stream",
          "name": "stderr",
          "text": [
            "/usr/local/lib/python3.7/dist-packages/ipykernel_launcher.py:2: UserWarning: Boolean Series key will be reindexed to match DataFrame index.\n",
            "  \n"
          ]
        },
        {
          "output_type": "execute_result",
          "data": {
            "text/plain": [
              "   index                  Job Title              Salary Estimate  Rating  \\\n",
              "0      0             Data Scientist   $53K-$91K (Glassdoor est.)     3.8   \n",
              "1      1  Healthcare Data Scientist  $63K-$112K (Glassdoor est.)     3.4   \n",
              "\n",
              "                                 Company Name         Location   Headquarters  \\\n",
              "0                      Tecolote Research\\n3.8  Albuquerque, NM     Goleta, CA   \n",
              "1  University of Maryland Medical System\\n3.4    Linthicum, MD  Baltimore, MD   \n",
              "\n",
              "         Size  Founded   Type of ownership  ... bi flink mongo google_an  \\\n",
              "0  501 - 1000     1973   Company - Private  ...  1     0     0         0   \n",
              "1      10000+     1984  Other Organization  ...  0     0     0         0   \n",
              "\n",
              "    job_title_sim  seniority_by_title  Degree  co_revenue     co_rating  \\\n",
              "0  data scientist                  na       M         Low  Medium (3-4)   \n",
              "1  data scientist                  na       M      Medium  Medium (3-4)   \n",
              "\n",
              "   co_region  \n",
              "0    MidWest  \n",
              "1  NorthEast  \n",
              "\n",
              "[2 rows x 44 columns]"
            ],
            "text/html": [
              "\n",
              "  <div id=\"df-deb91fa1-5943-4d32-9aa8-0c2d66d4d0af\">\n",
              "    <div class=\"colab-df-container\">\n",
              "      <div>\n",
              "<style scoped>\n",
              "    .dataframe tbody tr th:only-of-type {\n",
              "        vertical-align: middle;\n",
              "    }\n",
              "\n",
              "    .dataframe tbody tr th {\n",
              "        vertical-align: top;\n",
              "    }\n",
              "\n",
              "    .dataframe thead th {\n",
              "        text-align: right;\n",
              "    }\n",
              "</style>\n",
              "<table border=\"1\" class=\"dataframe\">\n",
              "  <thead>\n",
              "    <tr style=\"text-align: right;\">\n",
              "      <th></th>\n",
              "      <th>index</th>\n",
              "      <th>Job Title</th>\n",
              "      <th>Salary Estimate</th>\n",
              "      <th>Rating</th>\n",
              "      <th>Company Name</th>\n",
              "      <th>Location</th>\n",
              "      <th>Headquarters</th>\n",
              "      <th>Size</th>\n",
              "      <th>Founded</th>\n",
              "      <th>Type of ownership</th>\n",
              "      <th>...</th>\n",
              "      <th>bi</th>\n",
              "      <th>flink</th>\n",
              "      <th>mongo</th>\n",
              "      <th>google_an</th>\n",
              "      <th>job_title_sim</th>\n",
              "      <th>seniority_by_title</th>\n",
              "      <th>Degree</th>\n",
              "      <th>co_revenue</th>\n",
              "      <th>co_rating</th>\n",
              "      <th>co_region</th>\n",
              "    </tr>\n",
              "  </thead>\n",
              "  <tbody>\n",
              "    <tr>\n",
              "      <th>0</th>\n",
              "      <td>0</td>\n",
              "      <td>Data Scientist</td>\n",
              "      <td>$53K-$91K (Glassdoor est.)</td>\n",
              "      <td>3.8</td>\n",
              "      <td>Tecolote Research\\n3.8</td>\n",
              "      <td>Albuquerque, NM</td>\n",
              "      <td>Goleta, CA</td>\n",
              "      <td>501 - 1000</td>\n",
              "      <td>1973</td>\n",
              "      <td>Company - Private</td>\n",
              "      <td>...</td>\n",
              "      <td>1</td>\n",
              "      <td>0</td>\n",
              "      <td>0</td>\n",
              "      <td>0</td>\n",
              "      <td>data scientist</td>\n",
              "      <td>na</td>\n",
              "      <td>M</td>\n",
              "      <td>Low</td>\n",
              "      <td>Medium (3-4)</td>\n",
              "      <td>MidWest</td>\n",
              "    </tr>\n",
              "    <tr>\n",
              "      <th>1</th>\n",
              "      <td>1</td>\n",
              "      <td>Healthcare Data Scientist</td>\n",
              "      <td>$63K-$112K (Glassdoor est.)</td>\n",
              "      <td>3.4</td>\n",
              "      <td>University of Maryland Medical System\\n3.4</td>\n",
              "      <td>Linthicum, MD</td>\n",
              "      <td>Baltimore, MD</td>\n",
              "      <td>10000+</td>\n",
              "      <td>1984</td>\n",
              "      <td>Other Organization</td>\n",
              "      <td>...</td>\n",
              "      <td>0</td>\n",
              "      <td>0</td>\n",
              "      <td>0</td>\n",
              "      <td>0</td>\n",
              "      <td>data scientist</td>\n",
              "      <td>na</td>\n",
              "      <td>M</td>\n",
              "      <td>Medium</td>\n",
              "      <td>Medium (3-4)</td>\n",
              "      <td>NorthEast</td>\n",
              "    </tr>\n",
              "  </tbody>\n",
              "</table>\n",
              "<p>2 rows × 44 columns</p>\n",
              "</div>\n",
              "      <button class=\"colab-df-convert\" onclick=\"convertToInteractive('df-deb91fa1-5943-4d32-9aa8-0c2d66d4d0af')\"\n",
              "              title=\"Convert this dataframe to an interactive table.\"\n",
              "              style=\"display:none;\">\n",
              "        \n",
              "  <svg xmlns=\"http://www.w3.org/2000/svg\" height=\"24px\"viewBox=\"0 0 24 24\"\n",
              "       width=\"24px\">\n",
              "    <path d=\"M0 0h24v24H0V0z\" fill=\"none\"/>\n",
              "    <path d=\"M18.56 5.44l.94 2.06.94-2.06 2.06-.94-2.06-.94-.94-2.06-.94 2.06-2.06.94zm-11 1L8.5 8.5l.94-2.06 2.06-.94-2.06-.94L8.5 2.5l-.94 2.06-2.06.94zm10 10l.94 2.06.94-2.06 2.06-.94-2.06-.94-.94-2.06-.94 2.06-2.06.94z\"/><path d=\"M17.41 7.96l-1.37-1.37c-.4-.4-.92-.59-1.43-.59-.52 0-1.04.2-1.43.59L10.3 9.45l-7.72 7.72c-.78.78-.78 2.05 0 2.83L4 21.41c.39.39.9.59 1.41.59.51 0 1.02-.2 1.41-.59l7.78-7.78 2.81-2.81c.8-.78.8-2.07 0-2.86zM5.41 20L4 18.59l7.72-7.72 1.47 1.35L5.41 20z\"/>\n",
              "  </svg>\n",
              "      </button>\n",
              "      \n",
              "  <style>\n",
              "    .colab-df-container {\n",
              "      display:flex;\n",
              "      flex-wrap:wrap;\n",
              "      gap: 12px;\n",
              "    }\n",
              "\n",
              "    .colab-df-convert {\n",
              "      background-color: #E8F0FE;\n",
              "      border: none;\n",
              "      border-radius: 50%;\n",
              "      cursor: pointer;\n",
              "      display: none;\n",
              "      fill: #1967D2;\n",
              "      height: 32px;\n",
              "      padding: 0 0 0 0;\n",
              "      width: 32px;\n",
              "    }\n",
              "\n",
              "    .colab-df-convert:hover {\n",
              "      background-color: #E2EBFA;\n",
              "      box-shadow: 0px 1px 2px rgba(60, 64, 67, 0.3), 0px 1px 3px 1px rgba(60, 64, 67, 0.15);\n",
              "      fill: #174EA6;\n",
              "    }\n",
              "\n",
              "    [theme=dark] .colab-df-convert {\n",
              "      background-color: #3B4455;\n",
              "      fill: #D2E3FC;\n",
              "    }\n",
              "\n",
              "    [theme=dark] .colab-df-convert:hover {\n",
              "      background-color: #434B5C;\n",
              "      box-shadow: 0px 1px 3px 1px rgba(0, 0, 0, 0.15);\n",
              "      filter: drop-shadow(0px 1px 2px rgba(0, 0, 0, 0.3));\n",
              "      fill: #FFFFFF;\n",
              "    }\n",
              "  </style>\n",
              "\n",
              "      <script>\n",
              "        const buttonEl =\n",
              "          document.querySelector('#df-deb91fa1-5943-4d32-9aa8-0c2d66d4d0af button.colab-df-convert');\n",
              "        buttonEl.style.display =\n",
              "          google.colab.kernel.accessAllowed ? 'block' : 'none';\n",
              "\n",
              "        async function convertToInteractive(key) {\n",
              "          const element = document.querySelector('#df-deb91fa1-5943-4d32-9aa8-0c2d66d4d0af');\n",
              "          const dataTable =\n",
              "            await google.colab.kernel.invokeFunction('convertToInteractive',\n",
              "                                                     [key], {});\n",
              "          if (!dataTable) return;\n",
              "\n",
              "          const docLinkHtml = 'Like what you see? Visit the ' +\n",
              "            '<a target=\"_blank\" href=https://colab.research.google.com/notebooks/data_table.ipynb>data table notebook</a>'\n",
              "            + ' to learn more about interactive tables.';\n",
              "          element.innerHTML = '';\n",
              "          dataTable['output_type'] = 'display_data';\n",
              "          await google.colab.output.renderOutput(dataTable, element);\n",
              "          const docLink = document.createElement('div');\n",
              "          docLink.innerHTML = docLinkHtml;\n",
              "          element.appendChild(docLink);\n",
              "        }\n",
              "      </script>\n",
              "    </div>\n",
              "  </div>\n",
              "  "
            ]
          },
          "metadata": {},
          "execution_count": 82
        }
      ]
    },
    {
      "cell_type": "code",
      "source": [
        "data_ds_age.boxplot('Avg Salary(K)', by='Age', figsize=(24, 6));"
      ],
      "metadata": {
        "colab": {
          "base_uri": "https://localhost:8080/"
        },
        "id": "jSsJhzldyM_S",
        "outputId": "e160ea4c-7311-444a-d2b4-b0eee768671c"
      },
      "execution_count": null,
      "outputs": [
        {
          "output_type": "stream",
          "name": "stderr",
          "text": [
            "/usr/local/lib/python3.7/dist-packages/matplotlib/cbook/__init__.py:1376: VisibleDeprecationWarning: Creating an ndarray from ragged nested sequences (which is a list-or-tuple of lists-or-tuples-or ndarrays with different lengths or shapes) is deprecated. If you meant to do this, you must specify 'dtype=object' when creating the ndarray.\n",
            "  X = np.atleast_1d(X.T if isinstance(X, np.ndarray) else np.asarray(X))\n"
          ]
        },
        {
          "output_type": "display_data",
          "data": {
            "text/plain": [
              "<Figure size 1728x432 with 1 Axes>"
            ],
            "image/png": "[encoded data removed]"
          },
          "metadata": {
            "needs_background": "light"
          }
        }
      ]
    },
    {
      "cell_type": "code",
      "source": [
        "def company_by_age(age):\n",
        "    if(np.isnan(age)):\n",
        "        return 'unknown'\n",
        "    if(age < 5):\n",
        "        return 'New'\n",
        "    \n",
        "    elif(age < 20):\n",
        "        return 'Moderate'\n",
        "    \n",
        "    elif(age < 50):\n",
        "        return 'Known'\n",
        "    \n",
        "    elif(age < 100):\n",
        "        return 'Well_Known'\n",
        "    \n",
        "    else :\n",
        "        return 'Old'"
      ],
      "metadata": {
        "id": "w4EVxl5bzA4c"
      },
      "execution_count": null,
      "outputs": []
    },
    {
      "cell_type": "code",
      "source": [
        "data_ds_age['co_age'] = data_ds_age.Age.apply(lambda x: company_by_age(x))"
      ],
      "metadata": {
        "colab": {
          "base_uri": "https://localhost:8080/"
        },
        "id": "ehUGb0tM03J2",
        "outputId": "0decc953-b187-452d-ad1e-77de3ec55cab"
      },
      "execution_count": null,
      "outputs": [
        {
          "output_type": "stream",
          "name": "stderr",
          "text": [
            "/usr/local/lib/python3.7/dist-packages/ipykernel_launcher.py:1: SettingWithCopyWarning: \n",
            "A value is trying to be set on a copy of a slice from a DataFrame.\n",
            "Try using .loc[row_indexer,col_indexer] = value instead\n",
            "\n",
            "See the caveats in the documentation: https://pandas.pydata.org/pandas-docs/stable/user_guide/indexing.html#returning-a-view-versus-a-copy\n",
            "  \"\"\"Entry point for launching an IPython kernel.\n"
          ]
        }
      ]
    },
    {
      "cell_type": "code",
      "source": [
        "data_ds_newage = data_ds_age.groupby('co_age').mean().sort_values(by = 'Avg Salary(K)', ascending = False)\n",
        "\n",
        "plt.barh(data_ds_newage.index[:10] , data_ds_newage['Avg Salary(K)'][:10], color='pink', edgecolor='black')\n",
        "plt.title('Company Age vs Average Salary(K)', fontsize=14, fontweight='bold')\n",
        "plt.xlabel('Average Salary(K)', fontsize=14)\n",
        "\n",
        "print('Average salaries based on company age:\\n', data_ds_newage['Avg Salary(K)']);"
      ],
      "metadata": {
        "colab": {
          "base_uri": "https://localhost:8080/"
        },
        "id": "bmwzMljq2lCu",
        "outputId": "3511a1f4-be14-43e9-e219-3d7f6b177a4d"
      },
      "execution_count": null,
      "outputs": [
        {
          "output_type": "stream",
          "name": "stdout",
          "text": [
            "Average salaries based on company age:\n",
            " co_age\n",
            "New           129.000000\n",
            "Old           122.470588\n",
            "Moderate      120.696262\n",
            "Known         112.781690\n",
            "Well_Known    105.527778\n",
            "Name: Avg Salary(K), dtype: float64\n"
          ]
        },
        {
          "output_type": "display_data",
          "data": {
            "text/plain": [
              "<Figure size 432x288 with 1 Axes>"
            ],
            "image/png": "[encoded data removed]"
          },
          "metadata": {
            "needs_background": "light"
          }
        }
      ]
    },
    {
      "cell_type": "code",
      "source": [
        "# This shows that new companies < 5 years old offer the highest salaries for data scientists,\n",
        "# assuming that all other factors are equal"
      ],
      "metadata": {
        "id": "RjicADMDc2lB"
      },
      "execution_count": null,
      "outputs": []
    },
    {
      "cell_type": "code",
      "source": [
        "# Let's do a F_oneway test\n",
        "\n",
        "New = data_ds_age[data_ds_age['co_age'] == 'New']\n",
        "Moderate = data_ds_age[data_ds_age['co_age'] == 'Moderate']\n",
        "Known = data_ds_age[data_ds_age['co_age'] == 'Known']\n",
        "Well_Known = data_ds_age[data_ds_age['co_age'] == 'Well_Known']\n",
        "Old = data_ds_age[data_ds_age['co_age'] == 'Old']\n",
        "\n",
        "\n",
        "stats.f_oneway(New['Avg Salary(K)'], Moderate['Avg Salary(K)'], Known['Avg Salary(K)'], Well_Known['Avg Salary(K)'], Old['Avg Salary(K)'])"
      ],
      "metadata": {
        "colab": {
          "base_uri": "https://localhost:8080/"
        },
        "id": "r-cyoVfsZ1Y9",
        "outputId": "1279aaff-fbaa-43b8-f98c-cac227665464"
      },
      "execution_count": null,
      "outputs": [
        {
          "output_type": "execute_result",
          "data": {
            "text/plain": [
              "F_onewayResult(statistic=2.7032493928479218, pvalue=0.03065757501980341)"
            ]
          },
          "metadata": {},
          "execution_count": 88
        }
      ]
    },
    {
      "cell_type": "code",
      "source": [
        "# The p-value is just too low for there to be a significant impact"
      ],
      "metadata": {
        "id": "yEuAMEDaa-Z3"
      },
      "execution_count": null,
      "outputs": []
    },
    {
      "cell_type": "code",
      "source": [
        "# Now performing the Kruskal test for confirmation\n",
        "\n",
        "stats.kruskal(New['Avg Salary(K)'], Moderate['Avg Salary(K)'], Known['Avg Salary(K)'], Well_Known['Avg Salary(K)'], Old['Avg Salary(K)'])"
      ],
      "metadata": {
        "colab": {
          "base_uri": "https://localhost:8080/"
        },
        "id": "VWljXda5bDzT",
        "outputId": "e0c5a2a0-b7ed-4c5e-f33a-b51ece1ba4b4"
      },
      "execution_count": null,
      "outputs": [
        {
          "output_type": "execute_result",
          "data": {
            "text/plain": [
              "KruskalResult(statistic=12.59993209846435, pvalue=0.013405417644850114)"
            ]
          },
          "metadata": {},
          "execution_count": 90
        }
      ]
    },
    {
      "cell_type": "code",
      "source": [
        "# Since the p-value is < 0.05, there is not a significant impact salary from the company age"
      ],
      "metadata": {
        "id": "9Gc4zHHVbUJ0"
      },
      "execution_count": null,
      "outputs": []
    },
    {
      "cell_type": "markdown",
      "source": [
        "# **Does the size of the company impact salaries?**"
      ],
      "metadata": {
        "id": "y2ANRGkRm_Da"
      }
    },
    {
      "cell_type": "code",
      "source": [
        "data_ds['Size'].head()"
      ],
      "metadata": {
        "colab": {
          "base_uri": "https://localhost:8080/"
        },
        "id": "uEvq3VsqnIwR",
        "outputId": "3fd942d1-765c-43b3-d2aa-0f1ce54e4aea"
      },
      "execution_count": null,
      "outputs": [
        {
          "output_type": "execute_result",
          "data": {
            "text/plain": [
              "0     501 - 1000\n",
              "1         10000+\n",
              "2     501 - 1000\n",
              "3    1001 - 5000\n",
              "4       51 - 200\n",
              "Name: Size, dtype: object"
            ]
          },
          "metadata": {},
          "execution_count": 92
        }
      ]
    },
    {
      "cell_type": "code",
      "source": [
        "# Removing the $ and other unnecessary strings and symbols\n",
        "data_ds_size = data_ds['Size'].str.replace(' ','')\n",
        "data_ds_size = data_ds_size.replace('to','-')\n",
        "data_ds_size = data_ds_size.str.replace('+','')\n",
        "data_ds_size = data_ds_size.dropna(how='all')\n",
        "data_ds_size = data_ds_size.replace('10000', '-10000')\n",
        "data_ds_size = data_ds_size.str.split('-').str[1]\n",
        "\n",
        "print(data_ds_size.head(10))"
      ],
      "metadata": {
        "colab": {
          "base_uri": "https://localhost:8080/"
        },
        "id": "WfuVdiwXnoDZ",
        "outputId": "7264a1a7-92d7-459e-bd6d-a5c21dfe4350"
      },
      "execution_count": null,
      "outputs": [
        {
          "output_type": "stream",
          "name": "stdout",
          "text": [
            "0      1000\n",
            "1     10000\n",
            "2      1000\n",
            "3      5000\n",
            "4       200\n",
            "5       500\n",
            "6      1000\n",
            "7       500\n",
            "9       200\n",
            "10     1000\n",
            "Name: Size, dtype: object\n"
          ]
        },
        {
          "output_type": "stream",
          "name": "stderr",
          "text": [
            "/usr/local/lib/python3.7/dist-packages/ipykernel_launcher.py:4: FutureWarning: The default value of regex will change from True to False in a future version. In addition, single character regular expressions will *not* be treated as literal strings when regex=True.\n",
            "  after removing the cwd from sys.path.\n"
          ]
        }
      ]
    },
    {
      "cell_type": "code",
      "source": [
        "data_ds_size = data_ds_size.astype(float)\n",
        "\n",
        "plt.scatter(data_ds_size, data_ds['Avg Salary(K)'], color='green')\n",
        "plt.title('Company Size vs Avg Salary(K)', fontweight='bold', fontsize=14)\n",
        "plt.ylabel('Average Salary(K)', fontsize=14)\n",
        "plt.xlabel('Company Size', fontsize=14)\n",
        "plt.grid(axis='x')\n",
        "plt.ticklabel_format()\n",
        "plt.xticks(rotation=45);"
      ],
      "metadata": {
        "colab": {
          "base_uri": "https://localhost:8080/"
        },
        "id": "0mh_6oI7qmuZ",
        "outputId": "9816f373-ac09-4b2d-d449-dedae8b66d65"
      },
      "execution_count": null,
      "outputs": [
        {
          "output_type": "display_data",
          "data": {
            "text/plain": [
              "<Figure size 432x288 with 1 Axes>"
            ],
            "image/png": "[encoded data removed]"
          },
          "metadata": {
            "needs_background": "light"
          }
        }
      ]
    },
    {
      "cell_type": "code",
      "source": [
        "def company_by_size(size):\n",
        "    if(size < 2000):\n",
        "        return 'Small'\n",
        "    \n",
        "    elif(size < 6000):\n",
        "        return 'Mid'\n",
        "    \n",
        "    else :\n",
        "        return 'Large'"
      ],
      "metadata": {
        "id": "lTONFLXbs-oH"
      },
      "execution_count": null,
      "outputs": []
    },
    {
      "cell_type": "code",
      "source": [
        "data_ds_size['co_size'] = data_ds_size.apply(lambda x: company_by_size(x))"
      ],
      "metadata": {
        "id": "9OnDBsuRtXJP"
      },
      "execution_count": null,
      "outputs": []
    },
    {
      "cell_type": "code",
      "source": [
        "plt.figure(figsize=(4,6))\n",
        "plt.scatter(data_ds_size['co_size'], data_ds['Avg Salary(K)'], color='orange')\n",
        "plt.title('Company Size vs Average Salary(K)', fontweight='bold', fontsize=14)\n",
        "plt.xlabel('Company Size', fontsize=14)\n",
        "plt.ylabel('Average Salary(K)', fontsize=14)\n",
        "plt.grid(axis='x', color='black', alpha=.3);"
      ],
      "metadata": {
        "colab": {
          "base_uri": "https://localhost:8080/"
        },
        "id": "0zhP-MrYtyU2",
        "outputId": "de71d831-78e8-4a97-d788-af9dd3394029"
      },
      "execution_count": null,
      "outputs": [
        {
          "output_type": "display_data",
          "data": {
            "text/plain": [
              "<Figure size 288x432 with 1 Axes>"
            ],
            "image/png": "[encoded data removed]"
          },
          "metadata": {
            "needs_background": "light"
          }
        }
      ]
    },
    {
      "cell_type": "code",
      "source": [
        "# Let's run the F_oneway test\n",
        "\n",
        "Small = data_ds[data_ds_size['co_size'] == 'Small']\n",
        "Mid = data_ds[data_ds_size['co_size'] == 'Mid']\n",
        "Large = data_ds[data_ds_size['co_size'] == 'Large']\n",
        "\n",
        "\n",
        "stats.f_oneway(Small['Avg Salary(K)'], Mid['Avg Salary(K)'], Large['Avg Salary(K)'])"
      ],
      "metadata": {
        "colab": {
          "base_uri": "https://localhost:8080/"
        },
        "id": "2wAx1ZUhxabT",
        "outputId": "c22d6aae-381d-4487-f5a1-7d4591529214"
      },
      "execution_count": null,
      "outputs": [
        {
          "output_type": "execute_result",
          "data": {
            "text/plain": [
              "F_onewayResult(statistic=5.030321136586746, pvalue=0.007053283833872381)"
            ]
          },
          "metadata": {},
          "execution_count": 98
        }
      ]
    },
    {
      "cell_type": "code",
      "source": [
        "# Since the p-value from the F_oneway test is < 0.05, the means are not equal"
      ],
      "metadata": {
        "id": "GRz3FuuRyOJ-"
      },
      "execution_count": null,
      "outputs": []
    },
    {
      "cell_type": "code",
      "source": [
        "# let's check ttest values for each pair\n",
        "\n",
        "print(stats.ttest_ind(Small['Avg Salary(K)'], Mid['Avg Salary(K)']))\n",
        "print(stats.ttest_ind(Small['Avg Salary(K)'], Large['Avg Salary(K)']))\n",
        "print(stats.ttest_ind(Mid['Avg Salary(K)'], Large['Avg Salary(K)']))"
      ],
      "metadata": {
        "colab": {
          "base_uri": "https://localhost:8080/"
        },
        "id": "H2yUui3jytL0",
        "outputId": "629a1b76-738d-4efe-a0e8-30f7b00c6675"
      },
      "execution_count": null,
      "outputs": [
        {
          "output_type": "stream",
          "name": "stdout",
          "text": [
            "Ttest_indResult(statistic=1.9801467545287024, pvalue=0.048944751754615275)\n",
            "Ttest_indResult(statistic=-1.7536572066192837, pvalue=0.08065412591590061)\n",
            "Ttest_indResult(statistic=-2.9900038719819753, pvalue=0.003201491927490839)\n"
          ]
        }
      ]
    },
    {
      "cell_type": "code",
      "source": [
        "# Let's conduct a Kruskal-Wallis test\n",
        "\n",
        "stats.kruskal(Small['Avg Salary(K)'], Mid['Avg Salary(K)'], Large['Avg Salary(K)'])"
      ],
      "metadata": {
        "colab": {
          "base_uri": "https://localhost:8080/"
        },
        "id": "8tFQBQ32zCPt",
        "outputId": "e0068303-f6b2-46a3-d2dc-7fca566b68da"
      },
      "execution_count": null,
      "outputs": [
        {
          "output_type": "execute_result",
          "data": {
            "text/plain": [
              "KruskalResult(statistic=9.055134991365637, pvalue=0.010806932034756096)"
            ]
          },
          "metadata": {},
          "execution_count": 101
        }
      ]
    },
    {
      "cell_type": "code",
      "source": [
        "# The p-value for the Kruskal-Wallis test is < 0.05\n",
        "# therefore the means are not equal"
      ],
      "metadata": {
        "id": "T-DomiOz0BjB"
      },
      "execution_count": null,
      "outputs": []
    },
    {
      "cell_type": "markdown",
      "source": [
        "# **Does the type of company ownership impact salaries?**"
      ],
      "metadata": {
        "id": "QelygqsjK08I"
      }
    },
    {
      "cell_type": "code",
      "source": [
        "print(data_ds['Type of ownership'].value_counts())"
      ],
      "metadata": {
        "colab": {
          "base_uri": "https://localhost:8080/"
        },
        "id": "MwNqcCSJR_Y5",
        "outputId": "515c1b3a-4988-4eb1-8f43-2b9cba40f36a"
      },
      "execution_count": null,
      "outputs": [
        {
          "output_type": "stream",
          "name": "stdout",
          "text": [
            "Company - Private                 180\n",
            "Company - Public                  100\n",
            "Nonprofit Organization             17\n",
            "Government                         14\n",
            "Subsidiary or Business Segment     14\n",
            "College / University                2\n",
            "Other Organization                  1\n",
            "School / School District            1\n",
            "Name: Type of ownership, dtype: int64\n"
          ]
        }
      ]
    },
    {
      "cell_type": "code",
      "source": [
        "# I am only going to look at all the different ownership types, even though there isn't enough data to make a justified conclusion.\n",
        "\n",
        "plt.barh(data_ds['Type of ownership'].value_counts().index[:8] ,data_ds['Type of ownership'].value_counts().values[:8], color=('black'), edgecolor='red')\n",
        "plt.title('Company Ownership Types', fontsize=14, fontweight='bold')\n",
        "plt.xlabel('Number of Companies', fontsize=14)\n",
        "plt.grid(axis='y', color='red', alpha=0.2);"
      ],
      "metadata": {
        "colab": {
          "base_uri": "https://localhost:8080/"
        },
        "id": "eDzzjTu3LWer",
        "outputId": "6f849604-5eb3-4359-f300-68a590d47fbe"
      },
      "execution_count": null,
      "outputs": [
        {
          "output_type": "display_data",
          "data": {
            "text/plain": [
              "<Figure size 432x288 with 1 Axes>"
            ],
            "image/png": "[encoded data removed]"
          },
          "metadata": {
            "needs_background": "light"
          }
        }
      ]
    },
    {
      "cell_type": "code",
      "source": [
        "plt.figure(figsize=(6,4))\n",
        "plt.scatter(data_ds['Type of ownership'], data_ds['Avg Salary(K)'], color=('black'))\n",
        "plt.xticks(rotation=90)\n",
        "plt.ylabel('Average Salary (K)')\n",
        "plt.title('Type Of Ownership vs Average Salary(K)', fontweight='bold', fontsize=14);\n",
        "\n",
        "print(data_ds['Type of ownership'].value_counts())"
      ],
      "metadata": {
        "colab": {
          "base_uri": "https://localhost:8080/"
        },
        "id": "ONHuuiyRM3Kz",
        "outputId": "4f2fce16-951d-4264-fb99-b909e3820664"
      },
      "execution_count": null,
      "outputs": [
        {
          "output_type": "stream",
          "name": "stdout",
          "text": [
            "Company - Private                 180\n",
            "Company - Public                  100\n",
            "Nonprofit Organization             17\n",
            "Government                         14\n",
            "Subsidiary or Business Segment     14\n",
            "College / University                2\n",
            "Other Organization                  1\n",
            "School / School District            1\n",
            "Name: Type of ownership, dtype: int64\n"
          ]
        },
        {
          "output_type": "display_data",
          "data": {
            "text/plain": [
              "<Figure size 432x288 with 1 Axes>"
            ],
            "image/png": "[encoded data removed]"
          },
          "metadata": {
            "needs_background": "light"
          }
        }
      ]
    },
    {
      "cell_type": "code",
      "source": [
        "# Let's get rid of those ownership types with minimal data\n",
        "\n",
        "data_ds_ownership = data_ds[(data_ds['Type of ownership'] != 'Other Organization') & \n",
        "                            (data_ds['Type of ownership'] != 'School / School District') &\n",
        "                            (data_ds['Type of ownership'] != 'College / University')]"
      ],
      "metadata": {
        "id": "4RmoRawnsp4A"
      },
      "execution_count": null,
      "outputs": []
    },
    {
      "cell_type": "code",
      "source": [
        "plt.figure(figsize=(6,4))\n",
        "plt.scatter(data_ds_ownership['Type of ownership'], data_ds_ownership['Avg Salary(K)'], color=('black'))\n",
        "plt.xticks(rotation=20)\n",
        "plt.title('Type Of Ownership vs Average Salary(K)', fontweight='bold', fontsize=14)\n",
        "plt.ylabel('Average Salary (K)');\n",
        "\n",
        "print(data_ds_ownership['Type of ownership'].value_counts())"
      ],
      "metadata": {
        "colab": {
          "base_uri": "https://localhost:8080/"
        },
        "id": "3AqtzS2QvBY1",
        "outputId": "bc532612-a8bb-428a-d4e3-c7e4b5d21e39"
      },
      "execution_count": null,
      "outputs": [
        {
          "output_type": "stream",
          "name": "stdout",
          "text": [
            "Company - Private                 180\n",
            "Company - Public                  100\n",
            "Nonprofit Organization             17\n",
            "Government                         14\n",
            "Subsidiary or Business Segment     14\n",
            "Name: Type of ownership, dtype: int64\n"
          ]
        },
        {
          "output_type": "display_data",
          "data": {
            "text/plain": [
              "<Figure size 432x288 with 1 Axes>"
            ],
            "image/png": "[encoded data removed]"
          },
          "metadata": {
            "needs_background": "light"
          }
        }
      ]
    },
    {
      "cell_type": "code",
      "source": [
        "# Even though there isn't very much data for every type of ownership other than Company - Public and Company - Private, \n",
        "# I am still going to perform a few test on all 5 types and then just focus on Company - Public vs Company - Private."
      ],
      "metadata": {
        "id": "FgzOMpd0OcHN"
      },
      "execution_count": null,
      "outputs": []
    },
    {
      "cell_type": "code",
      "source": [
        "data_ds_ownership['Avg Salary(K)'].hist(by = data_ds_ownership['Type of ownership'], figsize=(8,8), color='black');"
      ],
      "metadata": {
        "colab": {
          "base_uri": "https://localhost:8080/"
        },
        "id": "O_KBfs2QylTe",
        "outputId": "25ff8056-a3fe-4ab1-922e-04e9e1d903a3"
      },
      "execution_count": null,
      "outputs": [
        {
          "output_type": "display_data",
          "data": {
            "text/plain": [
              "<Figure size 576x576 with 6 Axes>"
            ],
            "image/png": "[encoded data removed]"
          },
          "metadata": {
            "needs_background": "light"
          }
        }
      ]
    },
    {
      "cell_type": "code",
      "source": [
        "# Company - Public and Company - Private both appear to be normally distributed"
      ],
      "metadata": {
        "id": "C53nbzNl4QcR"
      },
      "execution_count": null,
      "outputs": []
    },
    {
      "cell_type": "code",
      "source": [
        "boxprops = dict(linestyle='-', linewidth=2, color='black')\n",
        "\n",
        "data_ds_ownership.boxplot('Avg Salary(K)', by='Type of ownership', figsize=(10, 6), showmeans=True, boxprops=boxprops)\n",
        "plt.xticks(rotation=10)\n",
        "\n",
        "plt.show();"
      ],
      "metadata": {
        "colab": {
          "base_uri": "https://localhost:8080/"
        },
        "id": "k2pqfgeiz-1O",
        "outputId": "66ca18c6-ad74-481d-a00d-207f2f5f649d"
      },
      "execution_count": null,
      "outputs": [
        {
          "output_type": "stream",
          "name": "stderr",
          "text": [
            "/usr/local/lib/python3.7/dist-packages/matplotlib/cbook/__init__.py:1376: VisibleDeprecationWarning: Creating an ndarray from ragged nested sequences (which is a list-or-tuple of lists-or-tuples-or ndarrays with different lengths or shapes) is deprecated. If you meant to do this, you must specify 'dtype=object' when creating the ndarray.\n",
            "  X = np.atleast_1d(X.T if isinstance(X, np.ndarray) else np.asarray(X))\n"
          ]
        },
        {
          "output_type": "display_data",
          "data": {
            "text/plain": [
              "<Figure size 720x432 with 1 Axes>"
            ],
            "image/png": "[encoded data removed]"
          },
          "metadata": {
            "needs_background": "light"
          }
        }
      ]
    },
    {
      "cell_type": "code",
      "source": [
        "# Let's just focus on the Company - Public and Company - Private \n",
        "# First, let's rename those values to make it a little easier\n",
        "\n",
        "data_ds_ownership['Type of ownership'] = data_ds_ownership['Type of ownership'].replace({'Company - Public':'Public'}).replace({'Company - Private':'Private'})\n",
        "data_ds_ownership.head(2)"
      ],
      "metadata": {
        "colab": {
          "base_uri": "https://localhost:8080/"
        },
        "id": "au4Bv1eLzA8W",
        "outputId": "106e6feb-0035-4708-f805-1141b199c3d8"
      },
      "execution_count": null,
      "outputs": [
        {
          "output_type": "stream",
          "name": "stderr",
          "text": [
            "/usr/local/lib/python3.7/dist-packages/ipykernel_launcher.py:4: SettingWithCopyWarning: \n",
            "A value is trying to be set on a copy of a slice from a DataFrame.\n",
            "Try using .loc[row_indexer,col_indexer] = value instead\n",
            "\n",
            "See the caveats in the documentation: https://pandas.pydata.org/pandas-docs/stable/user_guide/indexing.html#returning-a-view-versus-a-copy\n",
            "  after removing the cwd from sys.path.\n"
          ]
        },
        {
          "output_type": "execute_result",
          "data": {
            "text/plain": [
              "   index       Job Title             Salary Estimate  Rating  \\\n",
              "0      0  Data Scientist  $53K-$91K (Glassdoor est.)     3.8   \n",
              "2      2  Data Scientist  $80K-$90K (Glassdoor est.)     4.8   \n",
              "\n",
              "             Company Name         Location    Headquarters        Size  \\\n",
              "0  Tecolote Research\\n3.8  Albuquerque, NM      Goleta, CA  501 - 1000   \n",
              "2            KnowBe4\\n4.8   Clearwater, FL  Clearwater, FL  501 - 1000   \n",
              "\n",
              "   Founded Type of ownership  ... bi flink mongo google_an   job_title_sim  \\\n",
              "0     1973           Private  ...  1     0     0         0  data scientist   \n",
              "2     2010           Private  ...  0     0     0         0  data scientist   \n",
              "\n",
              "   seniority_by_title  Degree  co_revenue     co_rating co_region  \n",
              "0                  na       M         Low  Medium (3-4)   MidWest  \n",
              "2                  na       M         Low    High (4-5)     South  \n",
              "\n",
              "[2 rows x 44 columns]"
            ],
            "text/html": [
              "\n",
              "  <div id=\"df-0bbc7c27-eba8-4ceb-ac42-5c95069826f9\">\n",
              "    <div class=\"colab-df-container\">\n",
              "      <div>\n",
              "<style scoped>\n",
              "    .dataframe tbody tr th:only-of-type {\n",
              "        vertical-align: middle;\n",
              "    }\n",
              "\n",
              "    .dataframe tbody tr th {\n",
              "        vertical-align: top;\n",
              "    }\n",
              "\n",
              "    .dataframe thead th {\n",
              "        text-align: right;\n",
              "    }\n",
              "</style>\n",
              "<table border=\"1\" class=\"dataframe\">\n",
              "  <thead>\n",
              "    <tr style=\"text-align: right;\">\n",
              "      <th></th>\n",
              "      <th>index</th>\n",
              "      <th>Job Title</th>\n",
              "      <th>Salary Estimate</th>\n",
              "      <th>Rating</th>\n",
              "      <th>Company Name</th>\n",
              "      <th>Location</th>\n",
              "      <th>Headquarters</th>\n",
              "      <th>Size</th>\n",
              "      <th>Founded</th>\n",
              "      <th>Type of ownership</th>\n",
              "      <th>...</th>\n",
              "      <th>bi</th>\n",
              "      <th>flink</th>\n",
              "      <th>mongo</th>\n",
              "      <th>google_an</th>\n",
              "      <th>job_title_sim</th>\n",
              "      <th>seniority_by_title</th>\n",
              "      <th>Degree</th>\n",
              "      <th>co_revenue</th>\n",
              "      <th>co_rating</th>\n",
              "      <th>co_region</th>\n",
              "    </tr>\n",
              "  </thead>\n",
              "  <tbody>\n",
              "    <tr>\n",
              "      <th>0</th>\n",
              "      <td>0</td>\n",
              "      <td>Data Scientist</td>\n",
              "      <td>$53K-$91K (Glassdoor est.)</td>\n",
              "      <td>3.8</td>\n",
              "      <td>Tecolote Research\\n3.8</td>\n",
              "      <td>Albuquerque, NM</td>\n",
              "      <td>Goleta, CA</td>\n",
              "      <td>501 - 1000</td>\n",
              "      <td>1973</td>\n",
              "      <td>Private</td>\n",
              "      <td>...</td>\n",
              "      <td>1</td>\n",
              "      <td>0</td>\n",
              "      <td>0</td>\n",
              "      <td>0</td>\n",
              "      <td>data scientist</td>\n",
              "      <td>na</td>\n",
              "      <td>M</td>\n",
              "      <td>Low</td>\n",
              "      <td>Medium (3-4)</td>\n",
              "      <td>MidWest</td>\n",
              "    </tr>\n",
              "    <tr>\n",
              "      <th>2</th>\n",
              "      <td>2</td>\n",
              "      <td>Data Scientist</td>\n",
              "      <td>$80K-$90K (Glassdoor est.)</td>\n",
              "      <td>4.8</td>\n",
              "      <td>KnowBe4\\n4.8</td>\n",
              "      <td>Clearwater, FL</td>\n",
              "      <td>Clearwater, FL</td>\n",
              "      <td>501 - 1000</td>\n",
              "      <td>2010</td>\n",
              "      <td>Private</td>\n",
              "      <td>...</td>\n",
              "      <td>0</td>\n",
              "      <td>0</td>\n",
              "      <td>0</td>\n",
              "      <td>0</td>\n",
              "      <td>data scientist</td>\n",
              "      <td>na</td>\n",
              "      <td>M</td>\n",
              "      <td>Low</td>\n",
              "      <td>High (4-5)</td>\n",
              "      <td>South</td>\n",
              "    </tr>\n",
              "  </tbody>\n",
              "</table>\n",
              "<p>2 rows × 44 columns</p>\n",
              "</div>\n",
              "      <button class=\"colab-df-convert\" onclick=\"convertToInteractive('df-0bbc7c27-eba8-4ceb-ac42-5c95069826f9')\"\n",
              "              title=\"Convert this dataframe to an interactive table.\"\n",
              "              style=\"display:none;\">\n",
              "        \n",
              "  <svg xmlns=\"http://www.w3.org/2000/svg\" height=\"24px\"viewBox=\"0 0 24 24\"\n",
              "       width=\"24px\">\n",
              "    <path d=\"M0 0h24v24H0V0z\" fill=\"none\"/>\n",
              "    <path d=\"M18.56 5.44l.94 2.06.94-2.06 2.06-.94-2.06-.94-.94-2.06-.94 2.06-2.06.94zm-11 1L8.5 8.5l.94-2.06 2.06-.94-2.06-.94L8.5 2.5l-.94 2.06-2.06.94zm10 10l.94 2.06.94-2.06 2.06-.94-2.06-.94-.94-2.06-.94 2.06-2.06.94z\"/><path d=\"M17.41 7.96l-1.37-1.37c-.4-.4-.92-.59-1.43-.59-.52 0-1.04.2-1.43.59L10.3 9.45l-7.72 7.72c-.78.78-.78 2.05 0 2.83L4 21.41c.39.39.9.59 1.41.59.51 0 1.02-.2 1.41-.59l7.78-7.78 2.81-2.81c.8-.78.8-2.07 0-2.86zM5.41 20L4 18.59l7.72-7.72 1.47 1.35L5.41 20z\"/>\n",
              "  </svg>\n",
              "      </button>\n",
              "      \n",
              "  <style>\n",
              "    .colab-df-container {\n",
              "      display:flex;\n",
              "      flex-wrap:wrap;\n",
              "      gap: 12px;\n",
              "    }\n",
              "\n",
              "    .colab-df-convert {\n",
              "      background-color: #E8F0FE;\n",
              "      border: none;\n",
              "      border-radius: 50%;\n",
              "      cursor: pointer;\n",
              "      display: none;\n",
              "      fill: #1967D2;\n",
              "      height: 32px;\n",
              "      padding: 0 0 0 0;\n",
              "      width: 32px;\n",
              "    }\n",
              "\n",
              "    .colab-df-convert:hover {\n",
              "      background-color: #E2EBFA;\n",
              "      box-shadow: 0px 1px 2px rgba(60, 64, 67, 0.3), 0px 1px 3px 1px rgba(60, 64, 67, 0.15);\n",
              "      fill: #174EA6;\n",
              "    }\n",
              "\n",
              "    [theme=dark] .colab-df-convert {\n",
              "      background-color: #3B4455;\n",
              "      fill: #D2E3FC;\n",
              "    }\n",
              "\n",
              "    [theme=dark] .colab-df-convert:hover {\n",
              "      background-color: #434B5C;\n",
              "      box-shadow: 0px 1px 3px 1px rgba(0, 0, 0, 0.15);\n",
              "      filter: drop-shadow(0px 1px 2px rgba(0, 0, 0, 0.3));\n",
              "      fill: #FFFFFF;\n",
              "    }\n",
              "  </style>\n",
              "\n",
              "      <script>\n",
              "        const buttonEl =\n",
              "          document.querySelector('#df-0bbc7c27-eba8-4ceb-ac42-5c95069826f9 button.colab-df-convert');\n",
              "        buttonEl.style.display =\n",
              "          google.colab.kernel.accessAllowed ? 'block' : 'none';\n",
              "\n",
              "        async function convertToInteractive(key) {\n",
              "          const element = document.querySelector('#df-0bbc7c27-eba8-4ceb-ac42-5c95069826f9');\n",
              "          const dataTable =\n",
              "            await google.colab.kernel.invokeFunction('convertToInteractive',\n",
              "                                                     [key], {});\n",
              "          if (!dataTable) return;\n",
              "\n",
              "          const docLinkHtml = 'Like what you see? Visit the ' +\n",
              "            '<a target=\"_blank\" href=https://colab.research.google.com/notebooks/data_table.ipynb>data table notebook</a>'\n",
              "            + ' to learn more about interactive tables.';\n",
              "          element.innerHTML = '';\n",
              "          dataTable['output_type'] = 'display_data';\n",
              "          await google.colab.output.renderOutput(dataTable, element);\n",
              "          const docLink = document.createElement('div');\n",
              "          docLink.innerHTML = docLinkHtml;\n",
              "          element.appendChild(docLink);\n",
              "        }\n",
              "      </script>\n",
              "    </div>\n",
              "  </div>\n",
              "  "
            ]
          },
          "metadata": {},
          "execution_count": 112
        }
      ]
    },
    {
      "cell_type": "code",
      "source": [
        "comp_private = data_ds_ownership[(data_ds_ownership['Type of ownership'] == 'Private')]\n",
        "comp_public = data_ds_ownership[(data_ds_ownership['Type of ownership'] == 'Public')]\n",
        "\n",
        "plt.hist(comp_private['Avg Salary(K)'], alpha = .5, label = 'Private', color='gray')\n",
        "plt.hist(comp_public['Avg Salary(K)'], alpha = .5, label = 'Public', color='black')\n",
        "plt.legend(loc='upper right')\n",
        "plt.title('Public vs Private', fontsize=14, fontweight='bold')\n",
        "plt.xlabel('Average Salary(K)', fontsize=14)\n",
        "plt.ylabel('Number of Companies', fontsize=12)\n",
        "plt.show()"
      ],
      "metadata": {
        "colab": {
          "base_uri": "https://localhost:8080/"
        },
        "id": "Z4_Gueeb6a8A",
        "outputId": "be502f58-b893-42e5-d3ee-50d90088d224"
      },
      "execution_count": null,
      "outputs": [
        {
          "output_type": "display_data",
          "data": {
            "text/plain": [
              "<Figure size 432x288 with 1 Axes>"
            ],
            "image/png": "[encoded data removed]"
          },
          "metadata": {
            "needs_background": "light"
          }
        }
      ]
    },
    {
      "cell_type": "code",
      "source": [
        "print('Private: ', stats.describe(comp_private['Avg Salary(K)']))\n",
        "print('Public:  ', stats.describe(comp_public['Avg Salary(K)']))\n",
        "\n",
        "# Let's make sure the skewness and kurtosis are acceptable... which they both are\n",
        "# Skewness is between -3 and 3\n",
        "# Kurtosis is betweeen -10 and 10"
      ],
      "metadata": {
        "colab": {
          "base_uri": "https://localhost:8080/"
        },
        "id": "1On9fGul5-CS",
        "outputId": "628a9dea-718e-40b5-821e-7c6c9f7c2376"
      },
      "execution_count": null,
      "outputs": [
        {
          "output_type": "stream",
          "name": "stdout",
          "text": [
            "Private:  DescribeResult(nobs=180, minmax=(15.5, 254.0), mean=118.025, variance=1610.9644553072626, skewness=0.9197697522339271, kurtosis=1.6024781097421394)\n",
            "Public:   DescribeResult(nobs=100, minmax=(56.5, 184.5), mean=121.1, variance=804.5858585858588, skewness=0.21509093098599072, kurtosis=-0.5920969373397149)\n"
          ]
        }
      ]
    },
    {
      "cell_type": "code",
      "source": [
        "# Let's do a ttest\n",
        "\n",
        "stats.ttest_ind(comp_private['Avg Salary(K)'], comp_public['Avg Salary(K)'])"
      ],
      "metadata": {
        "colab": {
          "base_uri": "https://localhost:8080/"
        },
        "id": "YHUwZeIk8xuC",
        "outputId": "18967a64-a537-4cc2-a207-9a8972d9c30d"
      },
      "execution_count": null,
      "outputs": [
        {
          "output_type": "execute_result",
          "data": {
            "text/plain": [
              "Ttest_indResult(statistic=-0.6776275092476451, pvalue=0.4985714535303545)"
            ]
          },
          "metadata": {},
          "execution_count": 115
        }
      ]
    },
    {
      "cell_type": "code",
      "source": [
        "# The test statistic is < than 1.96 and the p-value is > than 0.05, \n",
        "# therefore we assume that the type of ownership does affect the salary"
      ],
      "metadata": {
        "id": "Gcfh3gfk0NB-"
      },
      "execution_count": null,
      "outputs": []
    },
    {
      "cell_type": "code",
      "source": [
        "# Let's get our 95% confidence interval\n",
        "\n",
        "def get_95_ci(array_1, array_2):\n",
        "    sample_1_n = array_1.shape[0]\n",
        "    sample_2_n = array_2.shape[0]\n",
        "    sample_1_mean = array_1.mean()\n",
        "    sample_2_mean = array_2.mean()\n",
        "    sample_1_var = array_1.var()\n",
        "    sample_2_var = array_2.var()\n",
        "    mean_difference = sample_2_mean - sample_1_mean\n",
        "    std_err_difference = math.sqrt((sample_1_var/sample_1_n)+(sample_2_var/sample_2_n))\n",
        "    margin_of_error = 1.96 * std_err_difference\n",
        "    ci_lower = mean_difference - margin_of_error\n",
        "    ci_upper = mean_difference + margin_of_error\n",
        "    return(\"The difference in means at the 95% confidence interval (two-tail) is between \"+str(ci_lower)+\" and \"+str(ci_upper)+\".\")\n",
        "\n",
        "print('Private vs Public: ', get_95_ci(comp_private['Avg Salary(K)'], comp_public['Avg Salary(K)']))\n",
        "print('Public vs Private: ', get_95_ci(comp_public['Avg Salary(K)'], comp_private['Avg Salary(K)']))\n",
        "print()\n",
        "print('Public mean salary is:  ', comp_public['Avg Salary(K)'].mean())\n",
        "print('Private mean salary is: ', comp_private['Avg Salary(K)'].mean())"
      ],
      "metadata": {
        "colab": {
          "base_uri": "https://localhost:8080/"
        },
        "id": "8_JaHQni9OX8",
        "outputId": "156f6593-f601-4984-cf8c-ca5b2c0c378c"
      },
      "execution_count": null,
      "outputs": [
        {
          "output_type": "stream",
          "name": "stdout",
          "text": [
            "Private vs Public:  The difference in means at the 95% confidence interval (two-tail) is between -5.0052556729786275 and 11.155255672978605.\n",
            "Public vs Private:  The difference in means at the 95% confidence interval (two-tail) is between -11.155255672978605 and 5.0052556729786275.\n",
            "\n",
            "Public mean salary is:   121.1\n",
            "Private mean salary is:  118.025\n"
          ]
        }
      ]
    },
    {
      "cell_type": "code",
      "source": [
        "# In conclusion, for a private company, you have a 95% chance of having a salary ranging from $5000 less to $11000 more than a public company.\n",
        "# Vice-versa, for a public company, you have a 95% chance of having a salary ranging from $11000 less to $5000 more than a private company.\n",
        "# Therefore, a private company would be more likely to have a higher salary...assuming all other factors equal"
      ],
      "metadata": {
        "id": "s2KC4msN_buH"
      },
      "execution_count": null,
      "outputs": []
    },
    {
      "cell_type": "code",
      "source": [
        "# Let's check the state where the public and private companies are located\n",
        "# to make sure its evenly spread out\n",
        "\n",
        "print('Private companies\\n', comp_private['Job Location'].value_counts().to_frame().head())\n",
        "print()\n",
        "print('Public companies\\n', comp_public['Job Location'].value_counts().to_frame().head())"
      ],
      "metadata": {
        "colab": {
          "base_uri": "https://localhost:8080/"
        },
        "id": "dEs-zHAK2gyo",
        "outputId": "0b877fa2-6bc4-4d7b-d1c3-2f3355148fa9"
      },
      "execution_count": null,
      "outputs": [
        {
          "output_type": "stream",
          "name": "stdout",
          "text": [
            "Private companies\n",
            "     Job Location\n",
            "CA            50\n",
            "MA            23\n",
            "NY            22\n",
            "IL            13\n",
            "VA            12\n",
            "\n",
            "Public companies\n",
            "     Job Location\n",
            "CA            20\n",
            "NY            17\n",
            "MA            15\n",
            "IL             8\n",
            "VA             5\n"
          ]
        }
      ]
    },
    {
      "cell_type": "code",
      "source": [
        "# It looks like the top 5 states for each type of ownership is the same, \n",
        "# therefore I assume that cost of living is not influencing the salary of each ownership type"
      ],
      "metadata": {
        "id": "5gWDk36-HtK5"
      },
      "execution_count": null,
      "outputs": []
    },
    {
      "cell_type": "code",
      "source": [
        "plt.figure(figsize=(8,5))\n",
        "plt.scatter(comp_private['Job Location'], comp_private['Avg Salary(K)'], color='black')\n",
        "plt.title('Private Job Location vs Avg Salary(K)', fontsize=14, fontweight='bold');"
      ],
      "metadata": {
        "colab": {
          "base_uri": "https://localhost:8080/"
        },
        "id": "xfpYWucG2l5A",
        "outputId": "97570995-5ea4-42ef-c4cd-ad8939ab3471"
      },
      "execution_count": null,
      "outputs": [
        {
          "output_type": "display_data",
          "data": {
            "text/plain": [
              "<Figure size 576x360 with 1 Axes>"
            ],
            "image/png": "[encoded data removed]"
          },
          "metadata": {
            "needs_background": "light"
          }
        }
      ]
    },
    {
      "cell_type": "code",
      "source": [
        "plt.figure(figsize=(8,5))\n",
        "plt.scatter(comp_public['Job Location'], comp_public['Avg Salary(K)'], color='black')\n",
        "plt.title('Public Job Location vs Avg Salary(K)', fontsize=14, fontweight='bold');"
      ],
      "metadata": {
        "colab": {
          "base_uri": "https://localhost:8080/"
        },
        "id": "pm8KtTSR8b0S",
        "outputId": "676da7dd-fd51-4477-850d-dee8ac45347b"
      },
      "execution_count": null,
      "outputs": [
        {
          "output_type": "display_data",
          "data": {
            "text/plain": [
              "<Figure size 576x360 with 1 Axes>"
            ],
            "image/png": "[encoded data removed]"
          },
          "metadata": {
            "needs_background": "light"
          }
        }
      ]
    },
    {
      "cell_type": "code",
      "source": [
        "comp_private_ca = comp_private[comp_private['Job Location'] == 'CA']\n",
        "print('California private average salary: ', comp_private_ca['Avg Salary(K)'].mean())\n",
        "comp_public_ca = comp_public[comp_public['Job Location'] == 'CA']\n",
        "print('California public average salary:  ', comp_public_ca['Avg Salary(K)'].mean())\n",
        "print()\n",
        "\n",
        "comp_private_ny = comp_private[comp_private['Job Location'] == 'NY']\n",
        "print('New York private average salary: ', comp_private_ny['Avg Salary(K)'].mean())\n",
        "comp_public_ny = comp_public[comp_public['Job Location'] == 'NY']\n",
        "print('New York public average salary:  ', comp_public_ny['Avg Salary(K)'].mean())\n",
        "print()\n",
        "\n",
        "comp_private_ma = comp_private[comp_private['Job Location'] == 'MA']\n",
        "print('Massachusetts private average salary: ', comp_private_ma['Avg Salary(K)'].mean())\n",
        "comp_public_ma = comp_public[comp_public['Job Location'] == 'MA']\n",
        "print('Massachusetts public average salary:  ', comp_public_ma['Avg Salary(K)'].mean())"
      ],
      "metadata": {
        "colab": {
          "base_uri": "https://localhost:8080/"
        },
        "id": "_cZscXHs6Q2L",
        "outputId": "5a949eab-45da-481d-97d8-f0f0ec8bd84c"
      },
      "execution_count": null,
      "outputs": [
        {
          "output_type": "stream",
          "name": "stdout",
          "text": [
            "California private average salary:  133.5\n",
            "California public average salary:   141.775\n",
            "\n",
            "New York private average salary:  104.93181818181819\n",
            "New York public average salary:   127.8529411764706\n",
            "\n",
            "Massachusetts private average salary:  103.45652173913044\n",
            "Massachusetts public average salary:   109.63333333333334\n"
          ]
        }
      ]
    },
    {
      "cell_type": "markdown",
      "source": [
        "I don't think that I was biased with any of my analyses. I wanted the data to be more influential to the data scientist salary, but most didn't impact the salary very much."
      ],
      "metadata": {
        "id": "E59x-95cJsO1"
      }
    },
    {
      "cell_type": "markdown",
      "source": [
        "**Hypothesis 1: The sector of the company positively impacts the salary.**"
      ],
      "metadata": {
        "id": "RQBA_6vCKTLp"
      }
    },
    {
      "cell_type": "markdown",
      "source": [
        "For this hypothesis, I assumed that the sector of the company would in fact influence the salary. After sorting the data from the 'Industry' column, I looked at the counts for each sector and determined the mean of the 'Avg Salary(K)' for the top 10 sectors. The mean of the salary for all data scientists was \\$116,102. The sector with the highest salary was Enterprise Software & Network Solutions with a mean salary of \\$144,860. The sector with the most data scientists was Biotech & Pharmaceuticals with a mean salary of \\$123,115. Other notable sectors were Computer Hardware & Software with a mean salary of \\$119,017 and Insurance Carriers with a mean salary of \\$129,667."
      ],
      "metadata": {
        "id": "LDJ0Twr4Lxch"
      }
    },
    {
      "cell_type": "markdown",
      "source": [
        "**Hypothesis 2: The revenue of the company positively impacts the salary.**"
      ],
      "metadata": {
        "id": "AEGNA7XtOWSC"
      }
    },
    {
      "cell_type": "markdown",
      "source": [
        "To test for the influence of the 'Revenue' of the company, I first had to clean the column a lot to eliminate the \\$, strings, remove the unknown values, convert to millions and then I took the max revenue of the spread that was given. I then grouped the revenues into three groups: Low, Medium and High. Even though the 'high' revenue had the highest mean salary, the p-value of the F_oneway test was too low to determine that there was direct correlation."
      ],
      "metadata": {
        "id": "GALF3KaROhXN"
      }
    },
    {
      "cell_type": "markdown",
      "source": [
        "**Hypothesis 3: The location of the company directly impacts the salary.**"
      ],
      "metadata": {
        "id": "fsbY2Y6rP1oE"
      }
    },
    {
      "cell_type": "markdown",
      "source": [
        "To test if the location directly impacted the salary, I first took a loot at where most of the companies were located. California, New York, Massachusetts and Virgina had the most data scientists. I then grouped them by region with Northeast having 142, West having 104, Central having 31, South having 30 and Midwest having 22. That results with 246/329 in either Northeast or West. The F_oneway p-value was too low. Therefore, there was no direct correlation between the salary and the location."
      ],
      "metadata": {
        "id": "shAJIailP7Vf"
      }
    },
    {
      "cell_type": "markdown",
      "source": [
        "**Hypothesis 4: The rating of the company does not impact the salary.**"
      ],
      "metadata": {
        "id": "0ru8LLLwRRMi"
      }
    },
    {
      "cell_type": "markdown",
      "source": [
        "The first thing I did to test for the impact of 'Rating' on the salary was to remove the (-1) rating and then group the remaining ratings in Low (0-3), Medium (3-4) and High (4-5). After performing a variety of statistical tests, I concluded that with the appropritate p-values found, the rating does impact the mean salary."
      ],
      "metadata": {
        "id": "Z6Sw32y1RXG6"
      }
    },
    {
      "cell_type": "markdown",
      "source": [
        "**Hypothesis 5: The age of the company positively impacts the salary.**"
      ],
      "metadata": {
        "id": "XBDkwdASUrlX"
      }
    },
    {
      "cell_type": "markdown",
      "source": [
        "Since this data was from 2021, all ages were calculated based on the year it was established against 2021. I first had to remove the (-1) age value because thats impossible and then I grouped them into 5 groups: New (0-5 years), Moderate (5-20 years), Known (20-50 years), Well_Known (50-100 years) and Old (over 100 years). To my suprise, the 'New' companies actually had the highest mean salary with \\$129,000 and the 'Well_Known' companies had the lowest with \\$105,528. I then performed the F_oneway test and the Kruskal-Wallis test and neither showed a significant impact on salary from company age."
      ],
      "metadata": {
        "id": "A542beOTUxWa"
      }
    },
    {
      "cell_type": "markdown",
      "source": [
        "**Hypothesis 6: The size of the company does not impact the salary.**"
      ],
      "metadata": {
        "id": "VcL9GMMSbmiQ"
      }
    },
    {
      "cell_type": "markdown",
      "source": [
        "In order to properly analyze the 'Size' of the company, I first had to remove the unnecessary symbols and take the max value of the spread, similar to the way the 'Revenue' column was cleaned. I then grouped them into three differend groups: Small (up to 2000), Mid (2000-6000) and Large (over 6000). After getting the data into three groups, I used a statistical analysis by performing a F_oneway test as well as a Kruskal-Wallis test. Both p-values were too low to show a significant impact salary from the size of the company. "
      ],
      "metadata": {
        "id": "u2CXVL9Tbsd0"
      }
    },
    {
      "cell_type": "markdown",
      "source": [
        "**Hypothesis 7: The ownership type of the company does not impact the salary.**"
      ],
      "metadata": {
        "id": "hgQkQHlDcORo"
      }
    },
    {
      "cell_type": "markdown",
      "source": [
        "In order to determine if the company type impacted the salary, I had to analyze the count of the different types in order to confirm there was enough data for a valid analysis. Since Company-Public and Company-Private were the only two with enough data, I ran a series of tests on them. After performing a t-test, the p-value showed that there is a direct impact on salary in public versus private companies with the public companies having a slightly higher mean salary. I then checked the location of the public and private companies to make sure there wasn't anything unusual there and it came back with consistent locations across the country for both ownership types."
      ],
      "metadata": {
        "id": "FobvZyWXcSuN"
      }
    },
    {
      "cell_type": "markdown",
      "source": [
        "# **Conclusion**"
      ],
      "metadata": {
        "id": "q7QRJI8F2JWg"
      }
    },
    {
      "cell_type": "markdown",
      "source": [
        "After analyzing the impact of a variety of company factors on the average salary of data scientists, I conclude that the sector of the company has a high impact of the salary as well as the company ownership type. Other factors such as the size, age, rating, location or revenue do not have a consistent impact on the salary. If you are looking for the highest paying data scientist job, you should find one in the Enterprise Software & Network Solutions sector with a public ownership type."
      ],
      "metadata": {
        "id": "Qu4aZLVm2OqE"
      }
    }
  ]
}